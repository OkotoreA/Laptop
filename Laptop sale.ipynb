{
 "cells": [
  {
   "cell_type": "code",
   "execution_count": 5,
   "metadata": {},
   "outputs": [],
   "source": [
    "import pandas as pd"
   ]
  },
  {
   "cell_type": "code",
   "execution_count": 14,
   "metadata": {},
   "outputs": [],
   "source": [
    "laps=pd.read_csv (r\"C:\\Users\\Abraham okotore\\Downloads\\Laptop Sales (1).csv\")"
   ]
  },
  {
   "cell_type": "code",
   "execution_count": 15,
   "metadata": {},
   "outputs": [
    {
     "data": {
      "text/html": [
       "<div>\n",
       "<style scoped>\n",
       "    .dataframe tbody tr th:only-of-type {\n",
       "        vertical-align: middle;\n",
       "    }\n",
       "\n",
       "    .dataframe tbody tr th {\n",
       "        vertical-align: top;\n",
       "    }\n",
       "\n",
       "    .dataframe thead th {\n",
       "        text-align: right;\n",
       "    }\n",
       "</style>\n",
       "<table border=\"1\" class=\"dataframe\">\n",
       "  <thead>\n",
       "    <tr style=\"text-align: right;\">\n",
       "      <th></th>\n",
       "      <th>Transaction_date</th>\n",
       "      <th>Product</th>\n",
       "      <th>Price</th>\n",
       "      <th>Payment_Type</th>\n",
       "      <th>Name</th>\n",
       "      <th>City</th>\n",
       "      <th>State</th>\n",
       "      <th>Country</th>\n",
       "      <th>Account_Created</th>\n",
       "      <th>Last_Login</th>\n",
       "      <th>Latitude</th>\n",
       "      <th>Longitude</th>\n",
       "    </tr>\n",
       "  </thead>\n",
       "  <tbody>\n",
       "    <tr>\n",
       "      <th>0</th>\n",
       "      <td>1/2/2009 6:17</td>\n",
       "      <td>Silver Laptop</td>\n",
       "      <td>1200.0</td>\n",
       "      <td>Mastercard</td>\n",
       "      <td>carolina</td>\n",
       "      <td>Basildon</td>\n",
       "      <td>England</td>\n",
       "      <td>United Kingdom</td>\n",
       "      <td>1/2/2009 6:00</td>\n",
       "      <td>1/2/2009 6:08</td>\n",
       "      <td>51.500000</td>\n",
       "      <td>-1.116667</td>\n",
       "    </tr>\n",
       "    <tr>\n",
       "      <th>1</th>\n",
       "      <td>1/2/2009 4:53</td>\n",
       "      <td>Silver Laptop</td>\n",
       "      <td>1200.0</td>\n",
       "      <td>Visa</td>\n",
       "      <td>Betina</td>\n",
       "      <td>Parkville</td>\n",
       "      <td>MO</td>\n",
       "      <td>United States</td>\n",
       "      <td>1/2/2009 4:42</td>\n",
       "      <td>1/2/2009 7:49</td>\n",
       "      <td>39.195000</td>\n",
       "      <td>-94.681940</td>\n",
       "    </tr>\n",
       "    <tr>\n",
       "      <th>2</th>\n",
       "      <td>1/2/2009 13:08</td>\n",
       "      <td>Silver Laptop</td>\n",
       "      <td>1200.0</td>\n",
       "      <td>Mastercard</td>\n",
       "      <td>Federica e Andrea</td>\n",
       "      <td>Astoria</td>\n",
       "      <td>OR</td>\n",
       "      <td>United States</td>\n",
       "      <td>1/1/2009 16:21</td>\n",
       "      <td>1/3/2009 12:32</td>\n",
       "      <td>46.188060</td>\n",
       "      <td>-123.830000</td>\n",
       "    </tr>\n",
       "    <tr>\n",
       "      <th>3</th>\n",
       "      <td>1/3/2009 14:44</td>\n",
       "      <td>Silver Laptop</td>\n",
       "      <td>1200.0</td>\n",
       "      <td>Visa</td>\n",
       "      <td>Gouya</td>\n",
       "      <td>Echuca</td>\n",
       "      <td>Victoria</td>\n",
       "      <td>Australia</td>\n",
       "      <td>9/25/2005 21:13</td>\n",
       "      <td>1/3/2009 14:22</td>\n",
       "      <td>-36.133333</td>\n",
       "      <td>144.750000</td>\n",
       "    </tr>\n",
       "    <tr>\n",
       "      <th>4</th>\n",
       "      <td>1/4/2009 12:56</td>\n",
       "      <td>Gold Laptop</td>\n",
       "      <td>3600.0</td>\n",
       "      <td>Visa</td>\n",
       "      <td>Gerd W</td>\n",
       "      <td>Cahaba Heights</td>\n",
       "      <td>AL</td>\n",
       "      <td>United States</td>\n",
       "      <td>11/15/2008 15:47</td>\n",
       "      <td>1/4/2009 12:45</td>\n",
       "      <td>33.520560</td>\n",
       "      <td>-86.802500</td>\n",
       "    </tr>\n",
       "    <tr>\n",
       "      <th>...</th>\n",
       "      <td>...</td>\n",
       "      <td>...</td>\n",
       "      <td>...</td>\n",
       "      <td>...</td>\n",
       "      <td>...</td>\n",
       "      <td>...</td>\n",
       "      <td>...</td>\n",
       "      <td>...</td>\n",
       "      <td>...</td>\n",
       "      <td>...</td>\n",
       "      <td>...</td>\n",
       "      <td>...</td>\n",
       "    </tr>\n",
       "    <tr>\n",
       "      <th>993</th>\n",
       "      <td>1/22/2009 14:25</td>\n",
       "      <td>Silver Laptop</td>\n",
       "      <td>1200.0</td>\n",
       "      <td>Visa</td>\n",
       "      <td>Hans-Joerg</td>\n",
       "      <td>Belfast</td>\n",
       "      <td>Northern Ireland</td>\n",
       "      <td>United Kingdom</td>\n",
       "      <td>11/10/2008 12:15</td>\n",
       "      <td>3/1/2009 3:37</td>\n",
       "      <td>54.583333</td>\n",
       "      <td>-5.933333</td>\n",
       "    </tr>\n",
       "    <tr>\n",
       "      <th>994</th>\n",
       "      <td>1/28/2009 5:36</td>\n",
       "      <td>Gold Laptop</td>\n",
       "      <td>3600.0</td>\n",
       "      <td>Visa</td>\n",
       "      <td>Christiane</td>\n",
       "      <td>Black River</td>\n",
       "      <td>Black River</td>\n",
       "      <td>Mauritius</td>\n",
       "      <td>1/9/2009 8:10</td>\n",
       "      <td>3/1/2009 4:40</td>\n",
       "      <td>-20.360278</td>\n",
       "      <td>57.366111</td>\n",
       "    </tr>\n",
       "    <tr>\n",
       "      <th>995</th>\n",
       "      <td>1/1/2009 4:24</td>\n",
       "      <td>Platinum Laptop</td>\n",
       "      <td>7500.0</td>\n",
       "      <td>Amex</td>\n",
       "      <td>Pamela</td>\n",
       "      <td>Skaneateles</td>\n",
       "      <td>NY</td>\n",
       "      <td>United States</td>\n",
       "      <td>12/28/2008 17:28</td>\n",
       "      <td>3/1/2009 7:21</td>\n",
       "      <td>42.946940</td>\n",
       "      <td>-76.429440</td>\n",
       "    </tr>\n",
       "    <tr>\n",
       "      <th>996</th>\n",
       "      <td>1/8/2009 11:55</td>\n",
       "      <td>Silver Laptop</td>\n",
       "      <td>1200.0</td>\n",
       "      <td>Diners</td>\n",
       "      <td>julie</td>\n",
       "      <td>Haverhill</td>\n",
       "      <td>England</td>\n",
       "      <td>United Kingdom</td>\n",
       "      <td>11/29/2006 13:31</td>\n",
       "      <td>3/1/2009 7:28</td>\n",
       "      <td>52.083333</td>\n",
       "      <td>0.433333</td>\n",
       "    </tr>\n",
       "    <tr>\n",
       "      <th>997</th>\n",
       "      <td>1/12/2009 21:30</td>\n",
       "      <td>Silver Laptop</td>\n",
       "      <td>1200.0</td>\n",
       "      <td>Visa</td>\n",
       "      <td>Julia</td>\n",
       "      <td>Madison</td>\n",
       "      <td>WI</td>\n",
       "      <td>United States</td>\n",
       "      <td>11/17/2008 22:24</td>\n",
       "      <td>3/1/2009 10:14</td>\n",
       "      <td>43.073060</td>\n",
       "      <td>-89.401110</td>\n",
       "    </tr>\n",
       "  </tbody>\n",
       "</table>\n",
       "<p>998 rows × 12 columns</p>\n",
       "</div>"
      ],
      "text/plain": [
       "    Transaction_date          Product   Price Payment_Type               Name  \\\n",
       "0      1/2/2009 6:17    Silver Laptop  1200.0   Mastercard           carolina   \n",
       "1      1/2/2009 4:53    Silver Laptop  1200.0         Visa             Betina   \n",
       "2     1/2/2009 13:08    Silver Laptop  1200.0   Mastercard  Federica e Andrea   \n",
       "3     1/3/2009 14:44    Silver Laptop  1200.0         Visa              Gouya   \n",
       "4     1/4/2009 12:56      Gold Laptop  3600.0         Visa            Gerd W    \n",
       "..               ...              ...     ...          ...                ...   \n",
       "993  1/22/2009 14:25    Silver Laptop  1200.0         Visa         Hans-Joerg   \n",
       "994   1/28/2009 5:36      Gold Laptop  3600.0         Visa         Christiane   \n",
       "995    1/1/2009 4:24  Platinum Laptop  7500.0         Amex             Pamela   \n",
       "996   1/8/2009 11:55    Silver Laptop  1200.0       Diners              julie   \n",
       "997  1/12/2009 21:30    Silver Laptop  1200.0         Visa             Julia    \n",
       "\n",
       "                             City             State         Country  \\\n",
       "0                        Basildon           England  United Kingdom   \n",
       "1    Parkville                                   MO   United States   \n",
       "2    Astoria                                     OR   United States   \n",
       "3                          Echuca          Victoria       Australia   \n",
       "4    Cahaba Heights                              AL   United States   \n",
       "..                            ...               ...             ...   \n",
       "993                       Belfast  Northern Ireland  United Kingdom   \n",
       "994                   Black River       Black River       Mauritius   \n",
       "995  Skaneateles                                 NY   United States   \n",
       "996                     Haverhill           England  United Kingdom   \n",
       "997  Madison                                     WI   United States   \n",
       "\n",
       "      Account_Created      Last_Login   Latitude   Longitude  \n",
       "0       1/2/2009 6:00   1/2/2009 6:08  51.500000   -1.116667  \n",
       "1       1/2/2009 4:42   1/2/2009 7:49  39.195000  -94.681940  \n",
       "2      1/1/2009 16:21  1/3/2009 12:32  46.188060 -123.830000  \n",
       "3     9/25/2005 21:13  1/3/2009 14:22 -36.133333  144.750000  \n",
       "4    11/15/2008 15:47  1/4/2009 12:45  33.520560  -86.802500  \n",
       "..                ...             ...        ...         ...  \n",
       "993  11/10/2008 12:15   3/1/2009 3:37  54.583333   -5.933333  \n",
       "994     1/9/2009 8:10   3/1/2009 4:40 -20.360278   57.366111  \n",
       "995  12/28/2008 17:28   3/1/2009 7:21  42.946940  -76.429440  \n",
       "996  11/29/2006 13:31   3/1/2009 7:28  52.083333    0.433333  \n",
       "997  11/17/2008 22:24  3/1/2009 10:14  43.073060  -89.401110  \n",
       "\n",
       "[998 rows x 12 columns]"
      ]
     },
     "execution_count": 15,
     "metadata": {},
     "output_type": "execute_result"
    }
   ],
   "source": [
    "laps"
   ]
  },
  {
   "cell_type": "code",
   "execution_count": 8,
   "metadata": {},
   "outputs": [
    {
     "data": {
      "text/html": [
       "<div>\n",
       "<style scoped>\n",
       "    .dataframe tbody tr th:only-of-type {\n",
       "        vertical-align: middle;\n",
       "    }\n",
       "\n",
       "    .dataframe tbody tr th {\n",
       "        vertical-align: top;\n",
       "    }\n",
       "\n",
       "    .dataframe thead th {\n",
       "        text-align: right;\n",
       "    }\n",
       "</style>\n",
       "<table border=\"1\" class=\"dataframe\">\n",
       "  <thead>\n",
       "    <tr style=\"text-align: right;\">\n",
       "      <th></th>\n",
       "      <th>Transaction_date</th>\n",
       "      <th>Product</th>\n",
       "      <th>Price</th>\n",
       "      <th>Payment_Type</th>\n",
       "      <th>Name</th>\n",
       "      <th>City</th>\n",
       "      <th>State</th>\n",
       "      <th>Country</th>\n",
       "      <th>Account_Created</th>\n",
       "      <th>Last_Login</th>\n",
       "      <th>Latitude</th>\n",
       "      <th>Longitude</th>\n",
       "    </tr>\n",
       "  </thead>\n",
       "  <tbody>\n",
       "    <tr>\n",
       "      <th>0</th>\n",
       "      <td>1/2/2009 6:17</td>\n",
       "      <td>Silver Laptop</td>\n",
       "      <td>1200.0</td>\n",
       "      <td>Mastercard</td>\n",
       "      <td>carolina</td>\n",
       "      <td>Basildon</td>\n",
       "      <td>England</td>\n",
       "      <td>United Kingdom</td>\n",
       "      <td>1/2/2009 6:00</td>\n",
       "      <td>1/2/2009 6:08</td>\n",
       "      <td>51.500000</td>\n",
       "      <td>-1.116667</td>\n",
       "    </tr>\n",
       "    <tr>\n",
       "      <th>1</th>\n",
       "      <td>1/2/2009 4:53</td>\n",
       "      <td>Silver Laptop</td>\n",
       "      <td>1200.0</td>\n",
       "      <td>Visa</td>\n",
       "      <td>Betina</td>\n",
       "      <td>Parkville</td>\n",
       "      <td>MO</td>\n",
       "      <td>United States</td>\n",
       "      <td>1/2/2009 4:42</td>\n",
       "      <td>1/2/2009 7:49</td>\n",
       "      <td>39.195000</td>\n",
       "      <td>-94.681940</td>\n",
       "    </tr>\n",
       "    <tr>\n",
       "      <th>2</th>\n",
       "      <td>1/2/2009 13:08</td>\n",
       "      <td>Silver Laptop</td>\n",
       "      <td>1200.0</td>\n",
       "      <td>Mastercard</td>\n",
       "      <td>Federica e Andrea</td>\n",
       "      <td>Astoria</td>\n",
       "      <td>OR</td>\n",
       "      <td>United States</td>\n",
       "      <td>1/1/2009 16:21</td>\n",
       "      <td>1/3/2009 12:32</td>\n",
       "      <td>46.188060</td>\n",
       "      <td>-123.830000</td>\n",
       "    </tr>\n",
       "    <tr>\n",
       "      <th>3</th>\n",
       "      <td>1/3/2009 14:44</td>\n",
       "      <td>Silver Laptop</td>\n",
       "      <td>1200.0</td>\n",
       "      <td>Visa</td>\n",
       "      <td>Gouya</td>\n",
       "      <td>Echuca</td>\n",
       "      <td>Victoria</td>\n",
       "      <td>Australia</td>\n",
       "      <td>9/25/2005 21:13</td>\n",
       "      <td>1/3/2009 14:22</td>\n",
       "      <td>-36.133333</td>\n",
       "      <td>144.750000</td>\n",
       "    </tr>\n",
       "    <tr>\n",
       "      <th>4</th>\n",
       "      <td>1/4/2009 12:56</td>\n",
       "      <td>Gold Laptop</td>\n",
       "      <td>3600.0</td>\n",
       "      <td>Visa</td>\n",
       "      <td>Gerd W</td>\n",
       "      <td>Cahaba Heights</td>\n",
       "      <td>AL</td>\n",
       "      <td>United States</td>\n",
       "      <td>11/15/2008 15:47</td>\n",
       "      <td>1/4/2009 12:45</td>\n",
       "      <td>33.520560</td>\n",
       "      <td>-86.802500</td>\n",
       "    </tr>\n",
       "    <tr>\n",
       "      <th>...</th>\n",
       "      <td>...</td>\n",
       "      <td>...</td>\n",
       "      <td>...</td>\n",
       "      <td>...</td>\n",
       "      <td>...</td>\n",
       "      <td>...</td>\n",
       "      <td>...</td>\n",
       "      <td>...</td>\n",
       "      <td>...</td>\n",
       "      <td>...</td>\n",
       "      <td>...</td>\n",
       "      <td>...</td>\n",
       "    </tr>\n",
       "    <tr>\n",
       "      <th>195</th>\n",
       "      <td>1/7/2009 6:11</td>\n",
       "      <td>Gold Laptop</td>\n",
       "      <td>3600.0</td>\n",
       "      <td>Visa</td>\n",
       "      <td>Tiffany</td>\n",
       "      <td>Paris</td>\n",
       "      <td>Ile-de-France</td>\n",
       "      <td>France</td>\n",
       "      <td>1/7/2009 5:30</td>\n",
       "      <td>1/20/2009 11:22</td>\n",
       "      <td>48.866667</td>\n",
       "      <td>2.333333</td>\n",
       "    </tr>\n",
       "    <tr>\n",
       "      <th>196</th>\n",
       "      <td>1/3/2009 8:29</td>\n",
       "      <td>Silver Laptop</td>\n",
       "      <td>1200.0</td>\n",
       "      <td>Visa</td>\n",
       "      <td>Genevieve</td>\n",
       "      <td>Milton Keynes</td>\n",
       "      <td>England</td>\n",
       "      <td>United Kingdom</td>\n",
       "      <td>10/10/2008 1:26</td>\n",
       "      <td>1/20/2009 11:31</td>\n",
       "      <td>52.033333</td>\n",
       "      <td>-0.700000</td>\n",
       "    </tr>\n",
       "    <tr>\n",
       "      <th>197</th>\n",
       "      <td>1/1/2009 2:09</td>\n",
       "      <td>Silver Laptop</td>\n",
       "      <td>1200.0</td>\n",
       "      <td>Mastercard</td>\n",
       "      <td>Saraya</td>\n",
       "      <td>Dresden</td>\n",
       "      <td>Saxony</td>\n",
       "      <td>Germany</td>\n",
       "      <td>3/12/2006 11:31</td>\n",
       "      <td>1/20/2009 11:56</td>\n",
       "      <td>51.050000</td>\n",
       "      <td>13.750000</td>\n",
       "    </tr>\n",
       "    <tr>\n",
       "      <th>198</th>\n",
       "      <td>1/20/2009 12:34</td>\n",
       "      <td>Silver Laptop</td>\n",
       "      <td>1200.0</td>\n",
       "      <td>Mastercard</td>\n",
       "      <td>Anastasia</td>\n",
       "      <td>NYC</td>\n",
       "      <td>NY</td>\n",
       "      <td>United States</td>\n",
       "      <td>1/20/2009 12:17</td>\n",
       "      <td>1/20/2009 12:55</td>\n",
       "      <td>40.714170</td>\n",
       "      <td>-74.006390</td>\n",
       "    </tr>\n",
       "    <tr>\n",
       "      <th>199</th>\n",
       "      <td>1/20/2009 3:51</td>\n",
       "      <td>Silver Laptop</td>\n",
       "      <td>1200.0</td>\n",
       "      <td>Visa</td>\n",
       "      <td>Elizabeth</td>\n",
       "      <td>The Grange</td>\n",
       "      <td>Queensland</td>\n",
       "      <td>Australia</td>\n",
       "      <td>11/12/2008 3:34</td>\n",
       "      <td>1/20/2009 13:11</td>\n",
       "      <td>-24.816667</td>\n",
       "      <td>152.416667</td>\n",
       "    </tr>\n",
       "  </tbody>\n",
       "</table>\n",
       "<p>200 rows × 12 columns</p>\n",
       "</div>"
      ],
      "text/plain": [
       "    Transaction_date        Product   Price Payment_Type               Name  \\\n",
       "0      1/2/2009 6:17  Silver Laptop  1200.0   Mastercard           carolina   \n",
       "1      1/2/2009 4:53  Silver Laptop  1200.0         Visa             Betina   \n",
       "2     1/2/2009 13:08  Silver Laptop  1200.0   Mastercard  Federica e Andrea   \n",
       "3     1/3/2009 14:44  Silver Laptop  1200.0         Visa              Gouya   \n",
       "4     1/4/2009 12:56    Gold Laptop  3600.0         Visa            Gerd W    \n",
       "..               ...            ...     ...          ...                ...   \n",
       "195    1/7/2009 6:11    Gold Laptop  3600.0         Visa           Tiffany    \n",
       "196    1/3/2009 8:29  Silver Laptop  1200.0         Visa          Genevieve   \n",
       "197    1/1/2009 2:09  Silver Laptop  1200.0   Mastercard             Saraya   \n",
       "198  1/20/2009 12:34  Silver Laptop  1200.0   Mastercard          Anastasia   \n",
       "199   1/20/2009 3:51  Silver Laptop  1200.0         Visa          Elizabeth   \n",
       "\n",
       "                             City          State         Country  \\\n",
       "0                        Basildon        England  United Kingdom   \n",
       "1    Parkville                                MO   United States   \n",
       "2    Astoria                                  OR   United States   \n",
       "3                          Echuca       Victoria       Australia   \n",
       "4    Cahaba Heights                           AL   United States   \n",
       "..                            ...            ...             ...   \n",
       "195                         Paris  Ile-de-France          France   \n",
       "196                 Milton Keynes        England  United Kingdom   \n",
       "197                       Dresden         Saxony         Germany   \n",
       "198  NYC                                      NY   United States   \n",
       "199                    The Grange     Queensland       Australia   \n",
       "\n",
       "      Account_Created       Last_Login   Latitude   Longitude  \n",
       "0       1/2/2009 6:00    1/2/2009 6:08  51.500000   -1.116667  \n",
       "1       1/2/2009 4:42    1/2/2009 7:49  39.195000  -94.681940  \n",
       "2      1/1/2009 16:21   1/3/2009 12:32  46.188060 -123.830000  \n",
       "3     9/25/2005 21:13   1/3/2009 14:22 -36.133333  144.750000  \n",
       "4    11/15/2008 15:47   1/4/2009 12:45  33.520560  -86.802500  \n",
       "..                ...              ...        ...         ...  \n",
       "195     1/7/2009 5:30  1/20/2009 11:22  48.866667    2.333333  \n",
       "196   10/10/2008 1:26  1/20/2009 11:31  52.033333   -0.700000  \n",
       "197   3/12/2006 11:31  1/20/2009 11:56  51.050000   13.750000  \n",
       "198   1/20/2009 12:17  1/20/2009 12:55  40.714170  -74.006390  \n",
       "199   11/12/2008 3:34  1/20/2009 13:11 -24.816667  152.416667  \n",
       "\n",
       "[200 rows x 12 columns]"
      ]
     },
     "execution_count": 8,
     "metadata": {},
     "output_type": "execute_result"
    }
   ],
   "source": [
    "laps.iloc[0:200]"
   ]
  },
  {
   "cell_type": "code",
   "execution_count": 7,
   "metadata": {},
   "outputs": [
    {
     "data": {
      "text/plain": [
       "Index(['Transaction_date', 'Product', 'Price', 'Payment_Type', 'Name', 'City',\n",
       "       'State', 'Country', 'Account_Created', 'Last_Login', 'Latitude',\n",
       "       'Longitude'],\n",
       "      dtype='object')"
      ]
     },
     "execution_count": 7,
     "metadata": {},
     "output_type": "execute_result"
    }
   ],
   "source": [
    "laps.columns"
   ]
  },
  {
   "cell_type": "code",
   "execution_count": 26,
   "metadata": {},
   "outputs": [
    {
     "data": {
      "text/plain": [
       "Transaction_date     object\n",
       "Product              object\n",
       "Price               float64\n",
       "Payment_Type         object\n",
       "Name                 object\n",
       "City                 object\n",
       "State                object\n",
       "Country              object\n",
       "Account_Created      object\n",
       "Last_Login           object\n",
       "Latitude            float64\n",
       "Longitude           float64\n",
       "dtype: object"
      ]
     },
     "execution_count": 26,
     "metadata": {},
     "output_type": "execute_result"
    }
   ],
   "source": [
    "laps.dtypes"
   ]
  },
  {
   "cell_type": "code",
   "execution_count": 27,
   "metadata": {},
   "outputs": [
    {
     "data": {
      "text/html": [
       "<div>\n",
       "<style scoped>\n",
       "    .dataframe tbody tr th:only-of-type {\n",
       "        vertical-align: middle;\n",
       "    }\n",
       "\n",
       "    .dataframe tbody tr th {\n",
       "        vertical-align: top;\n",
       "    }\n",
       "\n",
       "    .dataframe thead th {\n",
       "        text-align: right;\n",
       "    }\n",
       "</style>\n",
       "<table border=\"1\" class=\"dataframe\">\n",
       "  <thead>\n",
       "    <tr style=\"text-align: right;\">\n",
       "      <th></th>\n",
       "      <th>Transaction_date</th>\n",
       "      <th>Product</th>\n",
       "      <th>Price</th>\n",
       "      <th>Payment_Type</th>\n",
       "      <th>Name</th>\n",
       "      <th>City</th>\n",
       "      <th>State</th>\n",
       "      <th>Country</th>\n",
       "      <th>Account_Created</th>\n",
       "      <th>Last_Login</th>\n",
       "      <th>Latitude</th>\n",
       "      <th>Longitude</th>\n",
       "    </tr>\n",
       "  </thead>\n",
       "  <tbody>\n",
       "    <tr>\n",
       "      <th>993</th>\n",
       "      <td>1/22/2009 14:25</td>\n",
       "      <td>Silver Laptop</td>\n",
       "      <td>1200.0</td>\n",
       "      <td>Visa</td>\n",
       "      <td>Hans-Joerg</td>\n",
       "      <td>Belfast</td>\n",
       "      <td>Northern Ireland</td>\n",
       "      <td>United Kingdom</td>\n",
       "      <td>11/10/2008 12:15</td>\n",
       "      <td>3/1/2009 3:37</td>\n",
       "      <td>54.583333</td>\n",
       "      <td>-5.933333</td>\n",
       "    </tr>\n",
       "    <tr>\n",
       "      <th>994</th>\n",
       "      <td>1/28/2009 5:36</td>\n",
       "      <td>Gold Laptop</td>\n",
       "      <td>3600.0</td>\n",
       "      <td>Visa</td>\n",
       "      <td>Christiane</td>\n",
       "      <td>Black River</td>\n",
       "      <td>Black River</td>\n",
       "      <td>Mauritius</td>\n",
       "      <td>1/9/2009 8:10</td>\n",
       "      <td>3/1/2009 4:40</td>\n",
       "      <td>-20.360278</td>\n",
       "      <td>57.366111</td>\n",
       "    </tr>\n",
       "    <tr>\n",
       "      <th>995</th>\n",
       "      <td>1/1/2009 4:24</td>\n",
       "      <td>Platinum Laptop</td>\n",
       "      <td>7500.0</td>\n",
       "      <td>Amex</td>\n",
       "      <td>Pamela</td>\n",
       "      <td>Skaneateles</td>\n",
       "      <td>NY</td>\n",
       "      <td>United States</td>\n",
       "      <td>12/28/2008 17:28</td>\n",
       "      <td>3/1/2009 7:21</td>\n",
       "      <td>42.946940</td>\n",
       "      <td>-76.429440</td>\n",
       "    </tr>\n",
       "    <tr>\n",
       "      <th>996</th>\n",
       "      <td>1/8/2009 11:55</td>\n",
       "      <td>Silver Laptop</td>\n",
       "      <td>1200.0</td>\n",
       "      <td>Diners</td>\n",
       "      <td>julie</td>\n",
       "      <td>Haverhill</td>\n",
       "      <td>England</td>\n",
       "      <td>United Kingdom</td>\n",
       "      <td>11/29/2006 13:31</td>\n",
       "      <td>3/1/2009 7:28</td>\n",
       "      <td>52.083333</td>\n",
       "      <td>0.433333</td>\n",
       "    </tr>\n",
       "    <tr>\n",
       "      <th>997</th>\n",
       "      <td>1/12/2009 21:30</td>\n",
       "      <td>Silver Laptop</td>\n",
       "      <td>1200.0</td>\n",
       "      <td>Visa</td>\n",
       "      <td>Julia</td>\n",
       "      <td>Madison</td>\n",
       "      <td>WI</td>\n",
       "      <td>United States</td>\n",
       "      <td>11/17/2008 22:24</td>\n",
       "      <td>3/1/2009 10:14</td>\n",
       "      <td>43.073060</td>\n",
       "      <td>-89.401110</td>\n",
       "    </tr>\n",
       "  </tbody>\n",
       "</table>\n",
       "</div>"
      ],
      "text/plain": [
       "    Transaction_date          Product   Price Payment_Type        Name  \\\n",
       "993  1/22/2009 14:25    Silver Laptop  1200.0         Visa  Hans-Joerg   \n",
       "994   1/28/2009 5:36      Gold Laptop  3600.0         Visa  Christiane   \n",
       "995    1/1/2009 4:24  Platinum Laptop  7500.0         Amex      Pamela   \n",
       "996   1/8/2009 11:55    Silver Laptop  1200.0       Diners       julie   \n",
       "997  1/12/2009 21:30    Silver Laptop  1200.0         Visa      Julia    \n",
       "\n",
       "                             City             State         Country  \\\n",
       "993                       Belfast  Northern Ireland  United Kingdom   \n",
       "994                   Black River       Black River       Mauritius   \n",
       "995  Skaneateles                                 NY   United States   \n",
       "996                     Haverhill           England  United Kingdom   \n",
       "997  Madison                                     WI   United States   \n",
       "\n",
       "      Account_Created      Last_Login   Latitude  Longitude  \n",
       "993  11/10/2008 12:15   3/1/2009 3:37  54.583333  -5.933333  \n",
       "994     1/9/2009 8:10   3/1/2009 4:40 -20.360278  57.366111  \n",
       "995  12/28/2008 17:28   3/1/2009 7:21  42.946940 -76.429440  \n",
       "996  11/29/2006 13:31   3/1/2009 7:28  52.083333   0.433333  \n",
       "997  11/17/2008 22:24  3/1/2009 10:14  43.073060 -89.401110  "
      ]
     },
     "execution_count": 27,
     "metadata": {},
     "output_type": "execute_result"
    }
   ],
   "source": [
    "laps.tail()"
   ]
  },
  {
   "cell_type": "code",
   "execution_count": 28,
   "metadata": {},
   "outputs": [
    {
     "data": {
      "text/plain": [
       "<bound method NDFrame.head of     Transaction_date          Product   Price Payment_Type               Name  \\\n",
       "0      1/2/2009 6:17    Silver Laptop  1200.0   Mastercard           carolina   \n",
       "1      1/2/2009 4:53    Silver Laptop  1200.0         Visa             Betina   \n",
       "2     1/2/2009 13:08    Silver Laptop  1200.0   Mastercard  Federica e Andrea   \n",
       "3     1/3/2009 14:44    Silver Laptop  1200.0         Visa              Gouya   \n",
       "4     1/4/2009 12:56      Gold Laptop  3600.0         Visa            Gerd W    \n",
       "..               ...              ...     ...          ...                ...   \n",
       "993  1/22/2009 14:25    Silver Laptop  1200.0         Visa         Hans-Joerg   \n",
       "994   1/28/2009 5:36      Gold Laptop  3600.0         Visa         Christiane   \n",
       "995    1/1/2009 4:24  Platinum Laptop  7500.0         Amex             Pamela   \n",
       "996   1/8/2009 11:55    Silver Laptop  1200.0       Diners              julie   \n",
       "997  1/12/2009 21:30    Silver Laptop  1200.0         Visa             Julia    \n",
       "\n",
       "                             City             State         Country  \\\n",
       "0                        Basildon           England  United Kingdom   \n",
       "1    Parkville                                   MO   United States   \n",
       "2    Astoria                                     OR   United States   \n",
       "3                          Echuca          Victoria       Australia   \n",
       "4    Cahaba Heights                              AL   United States   \n",
       "..                            ...               ...             ...   \n",
       "993                       Belfast  Northern Ireland  United Kingdom   \n",
       "994                   Black River       Black River       Mauritius   \n",
       "995  Skaneateles                                 NY   United States   \n",
       "996                     Haverhill           England  United Kingdom   \n",
       "997  Madison                                     WI   United States   \n",
       "\n",
       "      Account_Created      Last_Login   Latitude   Longitude  \n",
       "0       1/2/2009 6:00   1/2/2009 6:08  51.500000   -1.116667  \n",
       "1       1/2/2009 4:42   1/2/2009 7:49  39.195000  -94.681940  \n",
       "2      1/1/2009 16:21  1/3/2009 12:32  46.188060 -123.830000  \n",
       "3     9/25/2005 21:13  1/3/2009 14:22 -36.133333  144.750000  \n",
       "4    11/15/2008 15:47  1/4/2009 12:45  33.520560  -86.802500  \n",
       "..                ...             ...        ...         ...  \n",
       "993  11/10/2008 12:15   3/1/2009 3:37  54.583333   -5.933333  \n",
       "994     1/9/2009 8:10   3/1/2009 4:40 -20.360278   57.366111  \n",
       "995  12/28/2008 17:28   3/1/2009 7:21  42.946940  -76.429440  \n",
       "996  11/29/2006 13:31   3/1/2009 7:28  52.083333    0.433333  \n",
       "997  11/17/2008 22:24  3/1/2009 10:14  43.073060  -89.401110  \n",
       "\n",
       "[998 rows x 12 columns]>"
      ]
     },
     "execution_count": 28,
     "metadata": {},
     "output_type": "execute_result"
    }
   ],
   "source": [
    "laps.head"
   ]
  },
  {
   "cell_type": "code",
   "execution_count": 29,
   "metadata": {},
   "outputs": [
    {
     "data": {
      "text/plain": [
       "1630500.0"
      ]
     },
     "execution_count": 29,
     "metadata": {},
     "output_type": "execute_result"
    }
   ],
   "source": [
    "laps[\"Price\"].sum()"
   ]
  },
  {
   "cell_type": "code",
   "execution_count": 30,
   "metadata": {},
   "outputs": [
    {
     "data": {
      "text/plain": [
       "1633.7675350701402"
      ]
     },
     "execution_count": 30,
     "metadata": {},
     "output_type": "execute_result"
    }
   ],
   "source": [
    "laps[\"Price\"].mean()"
   ]
  },
  {
   "cell_type": "code",
   "execution_count": 35,
   "metadata": {},
   "outputs": [
    {
     "data": {
      "text/plain": [
       "1200.0     841\n",
       "3600.0     136\n",
       "7500.0      15\n",
       "2100.0       1\n",
       "1800.0       1\n",
       "1250.0       1\n",
       "13000.0      1\n",
       "250.0        1\n",
       "800.0        1\n",
       "Name: Price, dtype: int64"
      ]
     },
     "execution_count": 35,
     "metadata": {},
     "output_type": "execute_result"
    }
   ],
   "source": [
    "laps[\"Price\"].value_counts()"
   ]
  },
  {
   "cell_type": "code",
   "execution_count": 38,
   "metadata": {},
   "outputs": [
    {
     "data": {
      "text/plain": [
       "Visa          522\n",
       "Mastercard    277\n",
       "Amex          110\n",
       "Diners         89\n",
       "Name: Payment_Type, dtype: int64"
      ]
     },
     "execution_count": 38,
     "metadata": {},
     "output_type": "execute_result"
    }
   ],
   "source": [
    "laps[\"Payment_Type\"].value_counts()"
   ]
  },
  {
   "cell_type": "code",
   "execution_count": 39,
   "metadata": {},
   "outputs": [
    {
     "data": {
      "text/plain": [
       "United States           463\n",
       "United Kingdom          100\n",
       "Canada                   76\n",
       "Ireland                  49\n",
       "Australia                38\n",
       "Switzerland              36\n",
       "France                   27\n",
       "Germany                  25\n",
       "Netherlands              22\n",
       "Norway                   16\n",
       "Denmark                  15\n",
       "Italy                    15\n",
       "Sweden                   13\n",
       "Spain                    12\n",
       "Belgium                   8\n",
       "Austria                   7\n",
       "United Arab Emirates      6\n",
       "New Zealand               6\n",
       "Turkey                    6\n",
       "Brazil                    5\n",
       "South Africa              5\n",
       "Hungary                   3\n",
       "Czech Republic            3\n",
       "The Bahamas               2\n",
       "Philippines               2\n",
       "Malta                     2\n",
       "Japan                     2\n",
       "Thailand                  2\n",
       "India                     2\n",
       "Finland                   2\n",
       "Monaco                    2\n",
       "Poland                    2\n",
       "Jersey                    1\n",
       "Luxembourg                1\n",
       "Israel                    1\n",
       "Cayman Isls               1\n",
       "Dominican Republic        1\n",
       "Moldova                   1\n",
       "Latvia                    1\n",
       "Costa Rica                1\n",
       "Bulgaria                  1\n",
       "Ukraine                   1\n",
       "Argentina                 1\n",
       "South Korea               1\n",
       "Malaysia                  1\n",
       "Hong Kong                 1\n",
       "Bermuda                   1\n",
       "Mauritius                 1\n",
       "China                     1\n",
       "Bahrain                   1\n",
       "Guatemala                 1\n",
       "Kuwait                    1\n",
       "Russia                    1\n",
       "Romania                   1\n",
       "Greece                    1\n",
       "Iceland                   1\n",
       "Name: Country, dtype: int64"
      ]
     },
     "execution_count": 39,
     "metadata": {},
     "output_type": "execute_result"
    }
   ],
   "source": [
    "laps[\"Country\"].value_counts()"
   ]
  },
  {
   "cell_type": "code",
   "execution_count": 43,
   "metadata": {},
   "outputs": [
    {
     "data": {
      "text/plain": [
       "Product        Country       \n",
       "Gold Laptop    United States     55\n",
       "               Canada            14\n",
       "               Switzerland       14\n",
       "               United Kingdom    10\n",
       "               Australia          8\n",
       "                                 ..\n",
       "Silver Laptop  Moldova            1\n",
       "               Romania            1\n",
       "               South Korea        1\n",
       "               Thailand           1\n",
       "               Ukraine            1\n",
       "Name: Country, Length: 83, dtype: int64"
      ]
     },
     "execution_count": 43,
     "metadata": {},
     "output_type": "execute_result"
    }
   ],
   "source": [
    "laps.groupby(\"Product\")[\"Country\"].value_counts()"
   ]
  },
  {
   "cell_type": "code",
   "execution_count": 45,
   "metadata": {},
   "outputs": [
    {
     "data": {
      "text/plain": [
       "Product           Payment_Type\n",
       "Gold Laptop       Visa             70\n",
       "                  Mastercard       39\n",
       "                  Amex             21\n",
       "                  Diners            6\n",
       "Platinum Laptop   Visa              7\n",
       "                  Mastercard        4\n",
       "                  Diners            2\n",
       "                  Amex              1\n",
       "Platinum Laptop   Mastercard        1\n",
       "Silver Laptop     Visa            445\n",
       "                  Mastercard      233\n",
       "                  Amex             88\n",
       "                  Diners           81\n",
       "Name: Payment_Type, dtype: int64"
      ]
     },
     "execution_count": 45,
     "metadata": {},
     "output_type": "execute_result"
    }
   ],
   "source": [
    "laps.groupby(\"Product\")[\"Payment_Type\"].value_counts()"
   ]
  },
  {
   "cell_type": "code",
   "execution_count": 47,
   "metadata": {},
   "outputs": [
    {
     "data": {
      "text/plain": [
       "Payment_Type  Country       \n",
       "Amex          United States     72\n",
       "              Canada             5\n",
       "              United Kingdom     5\n",
       "              France             3\n",
       "              Netherlands        3\n",
       "                                ..\n",
       "Visa          Moldova            1\n",
       "              Philippines        1\n",
       "              South Korea        1\n",
       "              Thailand           1\n",
       "              Ukraine            1\n",
       "Name: Country, Length: 105, dtype: int64"
      ]
     },
     "execution_count": 47,
     "metadata": {},
     "output_type": "execute_result"
    }
   ],
   "source": [
    "laps.groupby(\"Payment_Type\")[\"Country\"].value_counts()"
   ]
  },
  {
   "cell_type": "code",
   "execution_count": 51,
   "metadata": {},
   "outputs": [
    {
     "data": {
      "text/plain": [
       "City            Payment_Type\n",
       "Aardal          Visa            1\n",
       "Aasgaardstrand  Visa            1\n",
       "Abbey Town      Visa            1\n",
       "Aberdeen        Visa            2\n",
       "Abu Dhabi       Diners          1\n",
       "                               ..\n",
       "Zug             Amex            1\n",
       "                Mastercard      1\n",
       "Zumikon         Visa            1\n",
       "Zurich          Mastercard      1\n",
       "                Visa            1\n",
       "Name: Payment_Type, Length: 865, dtype: int64"
      ]
     },
     "execution_count": 51,
     "metadata": {},
     "output_type": "execute_result"
    }
   ],
   "source": [
    "laps.groupby(\"City\")[\"Payment_Type\"].value_counts()"
   ]
  },
  {
   "cell_type": "code",
   "execution_count": 52,
   "metadata": {},
   "outputs": [
    {
     "data": {
      "text/plain": [
       "Product        Account_Created\n",
       "Gold Laptop    1/6/2009 12:00     2\n",
       "               1/1/2009 21:20     1\n",
       "               1/1/2009 9:13      1\n",
       "               1/10/2005 21:39    1\n",
       "               1/11/2009 12:00    1\n",
       "                                 ..\n",
       "Silver Laptop  9/4/2008 3:01      1\n",
       "               9/4/2008 9:26      1\n",
       "               9/5/2008 7:18      1\n",
       "               9/7/2008 11:43     1\n",
       "               9/9/2008 9:08      1\n",
       "Name: Account_Created, Length: 982, dtype: int64"
      ]
     },
     "execution_count": 52,
     "metadata": {},
     "output_type": "execute_result"
    }
   ],
   "source": [
    "laps.groupby(\"Product\")[\"Account_Created\"].value_counts()"
   ]
  },
  {
   "cell_type": "code",
   "execution_count": 54,
   "metadata": {},
   "outputs": [
    {
     "data": {
      "text/plain": [
       "Transaction_date  Payment_Type\n",
       "1/1/2009 10:06    Mastercard      1\n",
       "1/1/2009 11:05    Diners          1\n",
       "1/1/2009 12:19    Visa            1\n",
       "1/1/2009 12:20    Visa            1\n",
       "1/1/2009 12:25    Mastercard      1\n",
       "                                 ..\n",
       "1/9/2009 5:15     Visa            1\n",
       "1/9/2009 6:39     Mastercard      1\n",
       "1/9/2009 7:49     Visa            1\n",
       "1/9/2009 8:35     Amex            1\n",
       "1/9/2009 8:57     Diners          1\n",
       "Name: Payment_Type, Length: 997, dtype: int64"
      ]
     },
     "execution_count": 54,
     "metadata": {},
     "output_type": "execute_result"
    }
   ],
   "source": [
    "laps.groupby(\"Transaction_date\")[\"Payment_Type\"].value_counts()"
   ]
  },
  {
   "cell_type": "code",
   "execution_count": 55,
   "metadata": {},
   "outputs": [
    {
     "data": {
      "text/plain": [
       "Name                Payment_Type\n",
       "A                   Amex            1\n",
       "AMY                 Mastercard      1\n",
       "Aaron               Diners          1\n",
       "Abdul-L             Visa            1\n",
       "Abikay              Amex            1\n",
       "                                   ..\n",
       "steve               Mastercard      1\n",
       "sunny               Mastercard      1\n",
       "suzanne             Visa            1\n",
       "valerie et nicolas  Mastercard      1\n",
       "verena              Mastercard      1\n",
       "Name: Payment_Type, Length: 877, dtype: int64"
      ]
     },
     "execution_count": 55,
     "metadata": {},
     "output_type": "execute_result"
    }
   ],
   "source": [
    "laps.groupby(\"Name\")[\"Payment_Type\"].value_counts()"
   ]
  },
  {
   "cell_type": "code",
   "execution_count": 61,
   "metadata": {},
   "outputs": [
    {
     "data": {
      "text/plain": [
       "Country        Account_Created\n",
       "Argentina      1/24/2009 9:29     1\n",
       "Australia      1/1/2009 21:20     1\n",
       "               1/11/2009 0:33     1\n",
       "               1/12/2009 1:26     1\n",
       "               1/15/2007 20:37    1\n",
       "                                 ..\n",
       "United States  9/26/2008 4:29     1\n",
       "               9/27/2008 7:22     1\n",
       "               9/28/2008 19:40    1\n",
       "               9/3/2008 19:26     1\n",
       "               9/4/2008 16:51     1\n",
       "Name: Account_Created, Length: 978, dtype: int64"
      ]
     },
     "execution_count": 61,
     "metadata": {},
     "output_type": "execute_result"
    }
   ],
   "source": [
    "laps.groupby(\"Country\")[\"Account_Created\"].value_counts()"
   ]
  },
  {
   "cell_type": "code",
   "execution_count": 62,
   "metadata": {
    "scrolled": true
   },
   "outputs": [
    {
     "data": {
      "text/plain": [
       "Name                Country       \n",
       "A                   United States     1\n",
       "AMY                 United States     1\n",
       "Aaron               United Kingdom    1\n",
       "Abdul-L             United States     1\n",
       "Abikay              United States     2\n",
       "                                     ..\n",
       "steve               France            1\n",
       "sunny               Netherlands       1\n",
       "suzanne             United States     1\n",
       "valerie et nicolas  United States     1\n",
       "verena              United States     1\n",
       "Name: Country, Length: 931, dtype: int64"
      ]
     },
     "execution_count": 62,
     "metadata": {},
     "output_type": "execute_result"
    }
   ],
   "source": [
    "laps.groupby(\"Name\")[\"Country\"].value_counts()"
   ]
  },
  {
   "cell_type": "code",
   "execution_count": 66,
   "metadata": {
    "scrolled": true
   },
   "outputs": [
    {
     "data": {
      "text/plain": [
       "State            Country    \n",
       "                 Malta           2\n",
       "                 Monaco          2\n",
       "                 Cayman Isls     1\n",
       "                 Hong Kong       1\n",
       "                 Iceland         1\n",
       "                                ..\n",
       "Wicklow          Ireland         2\n",
       "Yukon Territory  Canada          1\n",
       "Zug              Switzerland     2\n",
       "Zuid-Holland     Netherlands    10\n",
       "Zurich           Switzerland     8\n",
       "Name: Country, Length: 209, dtype: int64"
      ]
     },
     "execution_count": 66,
     "metadata": {},
     "output_type": "execute_result"
    }
   ],
   "source": [
    "laps.groupby(\"State\")[\"Country\"].value_counts()"
   ]
  },
  {
   "cell_type": "code",
   "execution_count": 68,
   "metadata": {},
   "outputs": [
    {
     "data": {
      "text/plain": [
       "Name                Last_Login     \n",
       "A                   2/12/2009 4:41     1\n",
       "AMY                 1/25/2009 18:23    1\n",
       "Aaron               2/10/2009 16:38    1\n",
       "Abdul-L             1/18/2009 16:58    1\n",
       "Abikay              2/9/2009 12:53     1\n",
       "                                      ..\n",
       "steve               2/12/2009 23:49    1\n",
       "sunny               1/17/2009 22:34    1\n",
       "suzanne             1/21/2009 11:35    1\n",
       "valerie et nicolas  1/30/2009 17:40    1\n",
       "verena              1/30/2009 10:41    1\n",
       "Name: Last_Login, Length: 998, dtype: int64"
      ]
     },
     "execution_count": 68,
     "metadata": {},
     "output_type": "execute_result"
    }
   ],
   "source": [
    "laps.groupby(\"Name\")[\"Last_Login\"].value_counts()"
   ]
  },
  {
   "cell_type": "code",
   "execution_count": 71,
   "metadata": {},
   "outputs": [],
   "source": [
    "import matplotlib as pyplot"
   ]
  },
  {
   "cell_type": "code",
   "execution_count": 72,
   "metadata": {},
   "outputs": [
    {
     "data": {
      "text/html": [
       "<div>\n",
       "<style scoped>\n",
       "    .dataframe tbody tr th:only-of-type {\n",
       "        vertical-align: middle;\n",
       "    }\n",
       "\n",
       "    .dataframe tbody tr th {\n",
       "        vertical-align: top;\n",
       "    }\n",
       "\n",
       "    .dataframe thead th {\n",
       "        text-align: right;\n",
       "    }\n",
       "</style>\n",
       "<table border=\"1\" class=\"dataframe\">\n",
       "  <thead>\n",
       "    <tr style=\"text-align: right;\">\n",
       "      <th></th>\n",
       "      <th>Transaction_date</th>\n",
       "      <th>Product</th>\n",
       "      <th>Price</th>\n",
       "      <th>Payment_Type</th>\n",
       "      <th>Name</th>\n",
       "      <th>City</th>\n",
       "      <th>State</th>\n",
       "      <th>Country</th>\n",
       "      <th>Account_Created</th>\n",
       "      <th>Last_Login</th>\n",
       "      <th>Latitude</th>\n",
       "      <th>Longitude</th>\n",
       "    </tr>\n",
       "  </thead>\n",
       "  <tbody>\n",
       "    <tr>\n",
       "      <th>0</th>\n",
       "      <td>1/2/2009 6:17</td>\n",
       "      <td>Silver Laptop</td>\n",
       "      <td>1200.0</td>\n",
       "      <td>Mastercard</td>\n",
       "      <td>carolina</td>\n",
       "      <td>Basildon</td>\n",
       "      <td>England</td>\n",
       "      <td>United Kingdom</td>\n",
       "      <td>1/2/2009 6:00</td>\n",
       "      <td>1/2/2009 6:08</td>\n",
       "      <td>51.500000</td>\n",
       "      <td>-1.116667</td>\n",
       "    </tr>\n",
       "    <tr>\n",
       "      <th>1</th>\n",
       "      <td>1/2/2009 4:53</td>\n",
       "      <td>Silver Laptop</td>\n",
       "      <td>1200.0</td>\n",
       "      <td>Visa</td>\n",
       "      <td>Betina</td>\n",
       "      <td>Parkville</td>\n",
       "      <td>MO</td>\n",
       "      <td>United States</td>\n",
       "      <td>1/2/2009 4:42</td>\n",
       "      <td>1/2/2009 7:49</td>\n",
       "      <td>39.195000</td>\n",
       "      <td>-94.681940</td>\n",
       "    </tr>\n",
       "    <tr>\n",
       "      <th>2</th>\n",
       "      <td>1/2/2009 13:08</td>\n",
       "      <td>Silver Laptop</td>\n",
       "      <td>1200.0</td>\n",
       "      <td>Mastercard</td>\n",
       "      <td>Federica e Andrea</td>\n",
       "      <td>Astoria</td>\n",
       "      <td>OR</td>\n",
       "      <td>United States</td>\n",
       "      <td>1/1/2009 16:21</td>\n",
       "      <td>1/3/2009 12:32</td>\n",
       "      <td>46.188060</td>\n",
       "      <td>-123.830000</td>\n",
       "    </tr>\n",
       "    <tr>\n",
       "      <th>3</th>\n",
       "      <td>1/3/2009 14:44</td>\n",
       "      <td>Silver Laptop</td>\n",
       "      <td>1200.0</td>\n",
       "      <td>Visa</td>\n",
       "      <td>Gouya</td>\n",
       "      <td>Echuca</td>\n",
       "      <td>Victoria</td>\n",
       "      <td>Australia</td>\n",
       "      <td>9/25/2005 21:13</td>\n",
       "      <td>1/3/2009 14:22</td>\n",
       "      <td>-36.133333</td>\n",
       "      <td>144.750000</td>\n",
       "    </tr>\n",
       "    <tr>\n",
       "      <th>4</th>\n",
       "      <td>1/4/2009 12:56</td>\n",
       "      <td>Gold Laptop</td>\n",
       "      <td>3600.0</td>\n",
       "      <td>Visa</td>\n",
       "      <td>Gerd W</td>\n",
       "      <td>Cahaba Heights</td>\n",
       "      <td>AL</td>\n",
       "      <td>United States</td>\n",
       "      <td>11/15/2008 15:47</td>\n",
       "      <td>1/4/2009 12:45</td>\n",
       "      <td>33.520560</td>\n",
       "      <td>-86.802500</td>\n",
       "    </tr>\n",
       "    <tr>\n",
       "      <th>...</th>\n",
       "      <td>...</td>\n",
       "      <td>...</td>\n",
       "      <td>...</td>\n",
       "      <td>...</td>\n",
       "      <td>...</td>\n",
       "      <td>...</td>\n",
       "      <td>...</td>\n",
       "      <td>...</td>\n",
       "      <td>...</td>\n",
       "      <td>...</td>\n",
       "      <td>...</td>\n",
       "      <td>...</td>\n",
       "    </tr>\n",
       "    <tr>\n",
       "      <th>993</th>\n",
       "      <td>1/22/2009 14:25</td>\n",
       "      <td>Silver Laptop</td>\n",
       "      <td>1200.0</td>\n",
       "      <td>Visa</td>\n",
       "      <td>Hans-Joerg</td>\n",
       "      <td>Belfast</td>\n",
       "      <td>Northern Ireland</td>\n",
       "      <td>United Kingdom</td>\n",
       "      <td>11/10/2008 12:15</td>\n",
       "      <td>3/1/2009 3:37</td>\n",
       "      <td>54.583333</td>\n",
       "      <td>-5.933333</td>\n",
       "    </tr>\n",
       "    <tr>\n",
       "      <th>994</th>\n",
       "      <td>1/28/2009 5:36</td>\n",
       "      <td>Gold Laptop</td>\n",
       "      <td>3600.0</td>\n",
       "      <td>Visa</td>\n",
       "      <td>Christiane</td>\n",
       "      <td>Black River</td>\n",
       "      <td>Black River</td>\n",
       "      <td>Mauritius</td>\n",
       "      <td>1/9/2009 8:10</td>\n",
       "      <td>3/1/2009 4:40</td>\n",
       "      <td>-20.360278</td>\n",
       "      <td>57.366111</td>\n",
       "    </tr>\n",
       "    <tr>\n",
       "      <th>995</th>\n",
       "      <td>1/1/2009 4:24</td>\n",
       "      <td>Platinum Laptop</td>\n",
       "      <td>7500.0</td>\n",
       "      <td>Amex</td>\n",
       "      <td>Pamela</td>\n",
       "      <td>Skaneateles</td>\n",
       "      <td>NY</td>\n",
       "      <td>United States</td>\n",
       "      <td>12/28/2008 17:28</td>\n",
       "      <td>3/1/2009 7:21</td>\n",
       "      <td>42.946940</td>\n",
       "      <td>-76.429440</td>\n",
       "    </tr>\n",
       "    <tr>\n",
       "      <th>996</th>\n",
       "      <td>1/8/2009 11:55</td>\n",
       "      <td>Silver Laptop</td>\n",
       "      <td>1200.0</td>\n",
       "      <td>Diners</td>\n",
       "      <td>julie</td>\n",
       "      <td>Haverhill</td>\n",
       "      <td>England</td>\n",
       "      <td>United Kingdom</td>\n",
       "      <td>11/29/2006 13:31</td>\n",
       "      <td>3/1/2009 7:28</td>\n",
       "      <td>52.083333</td>\n",
       "      <td>0.433333</td>\n",
       "    </tr>\n",
       "    <tr>\n",
       "      <th>997</th>\n",
       "      <td>1/12/2009 21:30</td>\n",
       "      <td>Silver Laptop</td>\n",
       "      <td>1200.0</td>\n",
       "      <td>Visa</td>\n",
       "      <td>Julia</td>\n",
       "      <td>Madison</td>\n",
       "      <td>WI</td>\n",
       "      <td>United States</td>\n",
       "      <td>11/17/2008 22:24</td>\n",
       "      <td>3/1/2009 10:14</td>\n",
       "      <td>43.073060</td>\n",
       "      <td>-89.401110</td>\n",
       "    </tr>\n",
       "  </tbody>\n",
       "</table>\n",
       "<p>998 rows × 12 columns</p>\n",
       "</div>"
      ],
      "text/plain": [
       "    Transaction_date          Product   Price Payment_Type               Name  \\\n",
       "0      1/2/2009 6:17    Silver Laptop  1200.0   Mastercard           carolina   \n",
       "1      1/2/2009 4:53    Silver Laptop  1200.0         Visa             Betina   \n",
       "2     1/2/2009 13:08    Silver Laptop  1200.0   Mastercard  Federica e Andrea   \n",
       "3     1/3/2009 14:44    Silver Laptop  1200.0         Visa              Gouya   \n",
       "4     1/4/2009 12:56      Gold Laptop  3600.0         Visa            Gerd W    \n",
       "..               ...              ...     ...          ...                ...   \n",
       "993  1/22/2009 14:25    Silver Laptop  1200.0         Visa         Hans-Joerg   \n",
       "994   1/28/2009 5:36      Gold Laptop  3600.0         Visa         Christiane   \n",
       "995    1/1/2009 4:24  Platinum Laptop  7500.0         Amex             Pamela   \n",
       "996   1/8/2009 11:55    Silver Laptop  1200.0       Diners              julie   \n",
       "997  1/12/2009 21:30    Silver Laptop  1200.0         Visa             Julia    \n",
       "\n",
       "                             City             State         Country  \\\n",
       "0                        Basildon           England  United Kingdom   \n",
       "1    Parkville                                   MO   United States   \n",
       "2    Astoria                                     OR   United States   \n",
       "3                          Echuca          Victoria       Australia   \n",
       "4    Cahaba Heights                              AL   United States   \n",
       "..                            ...               ...             ...   \n",
       "993                       Belfast  Northern Ireland  United Kingdom   \n",
       "994                   Black River       Black River       Mauritius   \n",
       "995  Skaneateles                                 NY   United States   \n",
       "996                     Haverhill           England  United Kingdom   \n",
       "997  Madison                                     WI   United States   \n",
       "\n",
       "      Account_Created      Last_Login   Latitude   Longitude  \n",
       "0       1/2/2009 6:00   1/2/2009 6:08  51.500000   -1.116667  \n",
       "1       1/2/2009 4:42   1/2/2009 7:49  39.195000  -94.681940  \n",
       "2      1/1/2009 16:21  1/3/2009 12:32  46.188060 -123.830000  \n",
       "3     9/25/2005 21:13  1/3/2009 14:22 -36.133333  144.750000  \n",
       "4    11/15/2008 15:47  1/4/2009 12:45  33.520560  -86.802500  \n",
       "..                ...             ...        ...         ...  \n",
       "993  11/10/2008 12:15   3/1/2009 3:37  54.583333   -5.933333  \n",
       "994     1/9/2009 8:10   3/1/2009 4:40 -20.360278   57.366111  \n",
       "995  12/28/2008 17:28   3/1/2009 7:21  42.946940  -76.429440  \n",
       "996  11/29/2006 13:31   3/1/2009 7:28  52.083333    0.433333  \n",
       "997  11/17/2008 22:24  3/1/2009 10:14  43.073060  -89.401110  \n",
       "\n",
       "[998 rows x 12 columns]"
      ]
     },
     "execution_count": 72,
     "metadata": {},
     "output_type": "execute_result"
    }
   ],
   "source": [
    "laps"
   ]
  },
  {
   "cell_type": "code",
   "execution_count": 84,
   "metadata": {},
   "outputs": [],
   "source": [
    "a=[1,2,3,4,5,6,7,8,9,10]\n",
    "b=[11,12,13,14,15,16,17,18,19,20]"
   ]
  },
  {
   "cell_type": "code",
   "execution_count": 93,
   "metadata": {},
   "outputs": [
    {
     "data": {
      "image/png": "[encoded data removed]",
      "text/plain": [
       "<Figure size 432x288 with 1 Axes>"
      ]
     },
     "metadata": {
      "needs_background": "light"
     },
     "output_type": "display_data"
    }
   ],
   "source": [
    "plt.plot([1,2,3,4,5,6,7,8,9,10] ,[11,12,13,14,15,16,17,18,19,20],\"-o\")\n",
    "plt.xlabel(\"x axis\")\n",
    "plt.ylabel(\"y axis\")\n",
    "plt.title(\"x vs y\")\n",
    "plt.show()"
   ]
  },
  {
   "cell_type": "code",
   "execution_count": 94,
   "metadata": {},
   "outputs": [
    {
     "data": {
      "text/plain": [
       "[1, 2, 3, 4]"
      ]
     },
     "execution_count": 94,
     "metadata": {},
     "output_type": "execute_result"
    }
   ],
   "source": [
    "['go', 'come', 'bye', 'ink']\n",
    "[1,2,3,4]"
   ]
  },
  {
   "cell_type": "code",
   "execution_count": 98,
   "metadata": {},
   "outputs": [
    {
     "data": {
      "image/png": "[encoded data removed]",
      "text/plain": [
       "<Figure size 432x288 with 1 Axes>"
      ]
     },
     "metadata": {
      "needs_background": "light"
     },
     "output_type": "display_data"
    }
   ],
   "source": [
    "plt.bar(['go', 'come', 'bye', 'ink'],[1,2,3,4])\n",
    "plt.xlabel(\"x axis\")\n",
    "plt.ylabel(\"y axis\")\n",
    "plt.title(\"bar chart\")\n",
    "plt.show()"
   ]
  },
  {
   "cell_type": "code",
   "execution_count": 99,
   "metadata": {},
   "outputs": [
    {
     "data": {
      "text/html": [
       "<div>\n",
       "<style scoped>\n",
       "    .dataframe tbody tr th:only-of-type {\n",
       "        vertical-align: middle;\n",
       "    }\n",
       "\n",
       "    .dataframe tbody tr th {\n",
       "        vertical-align: top;\n",
       "    }\n",
       "\n",
       "    .dataframe thead th {\n",
       "        text-align: right;\n",
       "    }\n",
       "</style>\n",
       "<table border=\"1\" class=\"dataframe\">\n",
       "  <thead>\n",
       "    <tr style=\"text-align: right;\">\n",
       "      <th></th>\n",
       "      <th>Transaction_date</th>\n",
       "      <th>Product</th>\n",
       "      <th>Price</th>\n",
       "      <th>Payment_Type</th>\n",
       "      <th>Name</th>\n",
       "      <th>City</th>\n",
       "      <th>State</th>\n",
       "      <th>Country</th>\n",
       "      <th>Account_Created</th>\n",
       "      <th>Last_Login</th>\n",
       "      <th>Latitude</th>\n",
       "      <th>Longitude</th>\n",
       "    </tr>\n",
       "  </thead>\n",
       "  <tbody>\n",
       "    <tr>\n",
       "      <th>0</th>\n",
       "      <td>1/2/2009 6:17</td>\n",
       "      <td>Silver Laptop</td>\n",
       "      <td>1200.0</td>\n",
       "      <td>Mastercard</td>\n",
       "      <td>carolina</td>\n",
       "      <td>Basildon</td>\n",
       "      <td>England</td>\n",
       "      <td>United Kingdom</td>\n",
       "      <td>1/2/2009 6:00</td>\n",
       "      <td>1/2/2009 6:08</td>\n",
       "      <td>51.500000</td>\n",
       "      <td>-1.116667</td>\n",
       "    </tr>\n",
       "    <tr>\n",
       "      <th>1</th>\n",
       "      <td>1/2/2009 4:53</td>\n",
       "      <td>Silver Laptop</td>\n",
       "      <td>1200.0</td>\n",
       "      <td>Visa</td>\n",
       "      <td>Betina</td>\n",
       "      <td>Parkville</td>\n",
       "      <td>MO</td>\n",
       "      <td>United States</td>\n",
       "      <td>1/2/2009 4:42</td>\n",
       "      <td>1/2/2009 7:49</td>\n",
       "      <td>39.195000</td>\n",
       "      <td>-94.681940</td>\n",
       "    </tr>\n",
       "    <tr>\n",
       "      <th>2</th>\n",
       "      <td>1/2/2009 13:08</td>\n",
       "      <td>Silver Laptop</td>\n",
       "      <td>1200.0</td>\n",
       "      <td>Mastercard</td>\n",
       "      <td>Federica e Andrea</td>\n",
       "      <td>Astoria</td>\n",
       "      <td>OR</td>\n",
       "      <td>United States</td>\n",
       "      <td>1/1/2009 16:21</td>\n",
       "      <td>1/3/2009 12:32</td>\n",
       "      <td>46.188060</td>\n",
       "      <td>-123.830000</td>\n",
       "    </tr>\n",
       "    <tr>\n",
       "      <th>3</th>\n",
       "      <td>1/3/2009 14:44</td>\n",
       "      <td>Silver Laptop</td>\n",
       "      <td>1200.0</td>\n",
       "      <td>Visa</td>\n",
       "      <td>Gouya</td>\n",
       "      <td>Echuca</td>\n",
       "      <td>Victoria</td>\n",
       "      <td>Australia</td>\n",
       "      <td>9/25/2005 21:13</td>\n",
       "      <td>1/3/2009 14:22</td>\n",
       "      <td>-36.133333</td>\n",
       "      <td>144.750000</td>\n",
       "    </tr>\n",
       "    <tr>\n",
       "      <th>4</th>\n",
       "      <td>1/4/2009 12:56</td>\n",
       "      <td>Gold Laptop</td>\n",
       "      <td>3600.0</td>\n",
       "      <td>Visa</td>\n",
       "      <td>Gerd W</td>\n",
       "      <td>Cahaba Heights</td>\n",
       "      <td>AL</td>\n",
       "      <td>United States</td>\n",
       "      <td>11/15/2008 15:47</td>\n",
       "      <td>1/4/2009 12:45</td>\n",
       "      <td>33.520560</td>\n",
       "      <td>-86.802500</td>\n",
       "    </tr>\n",
       "    <tr>\n",
       "      <th>...</th>\n",
       "      <td>...</td>\n",
       "      <td>...</td>\n",
       "      <td>...</td>\n",
       "      <td>...</td>\n",
       "      <td>...</td>\n",
       "      <td>...</td>\n",
       "      <td>...</td>\n",
       "      <td>...</td>\n",
       "      <td>...</td>\n",
       "      <td>...</td>\n",
       "      <td>...</td>\n",
       "      <td>...</td>\n",
       "    </tr>\n",
       "    <tr>\n",
       "      <th>993</th>\n",
       "      <td>1/22/2009 14:25</td>\n",
       "      <td>Silver Laptop</td>\n",
       "      <td>1200.0</td>\n",
       "      <td>Visa</td>\n",
       "      <td>Hans-Joerg</td>\n",
       "      <td>Belfast</td>\n",
       "      <td>Northern Ireland</td>\n",
       "      <td>United Kingdom</td>\n",
       "      <td>11/10/2008 12:15</td>\n",
       "      <td>3/1/2009 3:37</td>\n",
       "      <td>54.583333</td>\n",
       "      <td>-5.933333</td>\n",
       "    </tr>\n",
       "    <tr>\n",
       "      <th>994</th>\n",
       "      <td>1/28/2009 5:36</td>\n",
       "      <td>Gold Laptop</td>\n",
       "      <td>3600.0</td>\n",
       "      <td>Visa</td>\n",
       "      <td>Christiane</td>\n",
       "      <td>Black River</td>\n",
       "      <td>Black River</td>\n",
       "      <td>Mauritius</td>\n",
       "      <td>1/9/2009 8:10</td>\n",
       "      <td>3/1/2009 4:40</td>\n",
       "      <td>-20.360278</td>\n",
       "      <td>57.366111</td>\n",
       "    </tr>\n",
       "    <tr>\n",
       "      <th>995</th>\n",
       "      <td>1/1/2009 4:24</td>\n",
       "      <td>Platinum Laptop</td>\n",
       "      <td>7500.0</td>\n",
       "      <td>Amex</td>\n",
       "      <td>Pamela</td>\n",
       "      <td>Skaneateles</td>\n",
       "      <td>NY</td>\n",
       "      <td>United States</td>\n",
       "      <td>12/28/2008 17:28</td>\n",
       "      <td>3/1/2009 7:21</td>\n",
       "      <td>42.946940</td>\n",
       "      <td>-76.429440</td>\n",
       "    </tr>\n",
       "    <tr>\n",
       "      <th>996</th>\n",
       "      <td>1/8/2009 11:55</td>\n",
       "      <td>Silver Laptop</td>\n",
       "      <td>1200.0</td>\n",
       "      <td>Diners</td>\n",
       "      <td>julie</td>\n",
       "      <td>Haverhill</td>\n",
       "      <td>England</td>\n",
       "      <td>United Kingdom</td>\n",
       "      <td>11/29/2006 13:31</td>\n",
       "      <td>3/1/2009 7:28</td>\n",
       "      <td>52.083333</td>\n",
       "      <td>0.433333</td>\n",
       "    </tr>\n",
       "    <tr>\n",
       "      <th>997</th>\n",
       "      <td>1/12/2009 21:30</td>\n",
       "      <td>Silver Laptop</td>\n",
       "      <td>1200.0</td>\n",
       "      <td>Visa</td>\n",
       "      <td>Julia</td>\n",
       "      <td>Madison</td>\n",
       "      <td>WI</td>\n",
       "      <td>United States</td>\n",
       "      <td>11/17/2008 22:24</td>\n",
       "      <td>3/1/2009 10:14</td>\n",
       "      <td>43.073060</td>\n",
       "      <td>-89.401110</td>\n",
       "    </tr>\n",
       "  </tbody>\n",
       "</table>\n",
       "<p>998 rows × 12 columns</p>\n",
       "</div>"
      ],
      "text/plain": [
       "    Transaction_date          Product   Price Payment_Type               Name  \\\n",
       "0      1/2/2009 6:17    Silver Laptop  1200.0   Mastercard           carolina   \n",
       "1      1/2/2009 4:53    Silver Laptop  1200.0         Visa             Betina   \n",
       "2     1/2/2009 13:08    Silver Laptop  1200.0   Mastercard  Federica e Andrea   \n",
       "3     1/3/2009 14:44    Silver Laptop  1200.0         Visa              Gouya   \n",
       "4     1/4/2009 12:56      Gold Laptop  3600.0         Visa            Gerd W    \n",
       "..               ...              ...     ...          ...                ...   \n",
       "993  1/22/2009 14:25    Silver Laptop  1200.0         Visa         Hans-Joerg   \n",
       "994   1/28/2009 5:36      Gold Laptop  3600.0         Visa         Christiane   \n",
       "995    1/1/2009 4:24  Platinum Laptop  7500.0         Amex             Pamela   \n",
       "996   1/8/2009 11:55    Silver Laptop  1200.0       Diners              julie   \n",
       "997  1/12/2009 21:30    Silver Laptop  1200.0         Visa             Julia    \n",
       "\n",
       "                             City             State         Country  \\\n",
       "0                        Basildon           England  United Kingdom   \n",
       "1    Parkville                                   MO   United States   \n",
       "2    Astoria                                     OR   United States   \n",
       "3                          Echuca          Victoria       Australia   \n",
       "4    Cahaba Heights                              AL   United States   \n",
       "..                            ...               ...             ...   \n",
       "993                       Belfast  Northern Ireland  United Kingdom   \n",
       "994                   Black River       Black River       Mauritius   \n",
       "995  Skaneateles                                 NY   United States   \n",
       "996                     Haverhill           England  United Kingdom   \n",
       "997  Madison                                     WI   United States   \n",
       "\n",
       "      Account_Created      Last_Login   Latitude   Longitude  \n",
       "0       1/2/2009 6:00   1/2/2009 6:08  51.500000   -1.116667  \n",
       "1       1/2/2009 4:42   1/2/2009 7:49  39.195000  -94.681940  \n",
       "2      1/1/2009 16:21  1/3/2009 12:32  46.188060 -123.830000  \n",
       "3     9/25/2005 21:13  1/3/2009 14:22 -36.133333  144.750000  \n",
       "4    11/15/2008 15:47  1/4/2009 12:45  33.520560  -86.802500  \n",
       "..                ...             ...        ...         ...  \n",
       "993  11/10/2008 12:15   3/1/2009 3:37  54.583333   -5.933333  \n",
       "994     1/9/2009 8:10   3/1/2009 4:40 -20.360278   57.366111  \n",
       "995  12/28/2008 17:28   3/1/2009 7:21  42.946940  -76.429440  \n",
       "996  11/29/2006 13:31   3/1/2009 7:28  52.083333    0.433333  \n",
       "997  11/17/2008 22:24  3/1/2009 10:14  43.073060  -89.401110  \n",
       "\n",
       "[998 rows x 12 columns]"
      ]
     },
     "execution_count": 99,
     "metadata": {},
     "output_type": "execute_result"
    }
   ],
   "source": [
    "laps"
   ]
  },
  {
   "cell_type": "code",
   "execution_count": 103,
   "metadata": {},
   "outputs": [
    {
     "data": {
      "text/plain": [
       "<BarContainer object of 998 artists>"
      ]
     },
     "execution_count": 103,
     "metadata": {},
     "output_type": "execute_result"
    },
    {
     "data": {
      "image/png": "[encoded data removed]",
      "text/plain": [
       "<Figure size 720x576 with 1 Axes>"
      ]
     },
     "metadata": {
      "needs_background": "light"
     },
     "output_type": "display_data"
    }
   ],
   "source": [
    "plt.figure(figsize=(10,8))\n",
    "plt.bar(data = laps, x = \"Product\", height =\"Price\")"
   ]
  },
  {
   "cell_type": "code",
   "execution_count": 111,
   "metadata": {},
   "outputs": [],
   "source": [
    "Payment=laps[\"Payment_Type\"].value_counts()\n"
   ]
  },
  {
   "cell_type": "code",
   "execution_count": 154,
   "metadata": {},
   "outputs": [
    {
     "data": {
      "text/plain": [
       "Visa          522\n",
       "Mastercard    277\n",
       "Amex          110\n",
       "Diners         89\n",
       "Name: Payment_Type, dtype: int64"
      ]
     },
     "execution_count": 154,
     "metadata": {},
     "output_type": "execute_result"
    }
   ],
   "source": [
    "Payment"
   ]
  },
  {
   "cell_type": "code",
   "execution_count": 167,
   "metadata": {},
   "outputs": [
    {
     "data": {
      "text/plain": [
       "<matplotlib.legend.Legend at 0x2391143aa48>"
      ]
     },
     "execution_count": 167,
     "metadata": {},
     "output_type": "execute_result"
    },
    {
     "data": {
      "image/png": "[encoded data removed]",
      "text/plain": [
       "<Figure size 432x288 with 1 Axes>"
      ]
     },
     "metadata": {},
     "output_type": "display_data"
    }
   ],
   "source": [
    "Payment.plot(kind=\"pie\", autopct=\"%1.1f%%\", explode=(0.1, 0.1,0.2,0))\n",
    "plt.legend()"
   ]
  },
  {
   "cell_type": "code",
   "execution_count": null,
   "metadata": {},
   "outputs": [],
   "source": []
  },
  {
   "cell_type": "code",
   "execution_count": 152,
   "metadata": {},
   "outputs": [
    {
     "data": {
      "text/plain": [
       "pandas.core.frame.DataFrame"
      ]
     },
     "execution_count": 152,
     "metadata": {},
     "output_type": "execute_result"
    }
   ],
   "source": [
    "type(AMZN)"
   ]
  },
  {
   "cell_type": "code",
   "execution_count": 149,
   "metadata": {},
   "outputs": [
    {
     "data": {
      "image/png": "[encoded data removed]",
      "text/plain": [
       "<Figure size 720x648 with 1 Axes>"
      ]
     },
     "metadata": {
      "needs_background": "light"
     },
     "output_type": "display_data"
    }
   ],
   "source": [
    "\n",
    "plt.figure(figsize =(10, 9))\n",
    "Payment.plot.bar(color = \"r\")\n",
    "plt.grid()\n",
    "plt.xlabel(\"x axis\", fontsize = 16)\n",
    "plt.ylabel(\"y axis\", fontsize = 16)\n",
    "plt.show()\n"
   ]
  },
  {
   "cell_type": "code",
   "execution_count": 8,
   "metadata": {},
   "outputs": [],
   "source": [
    "AMZN=pd.read_csv(r\"C:\\Users\\Abraham okotore\\Downloads\\AMZN_data.csv\")"
   ]
  },
  {
   "cell_type": "code",
   "execution_count": 123,
   "metadata": {},
   "outputs": [
    {
     "data": {
      "text/html": [
       "<div>\n",
       "<style scoped>\n",
       "    .dataframe tbody tr th:only-of-type {\n",
       "        vertical-align: middle;\n",
       "    }\n",
       "\n",
       "    .dataframe tbody tr th {\n",
       "        vertical-align: top;\n",
       "    }\n",
       "\n",
       "    .dataframe thead th {\n",
       "        text-align: right;\n",
       "    }\n",
       "</style>\n",
       "<table border=\"1\" class=\"dataframe\">\n",
       "  <thead>\n",
       "    <tr style=\"text-align: right;\">\n",
       "      <th></th>\n",
       "      <th>date</th>\n",
       "      <th>open</th>\n",
       "      <th>high</th>\n",
       "      <th>low</th>\n",
       "      <th>close</th>\n",
       "      <th>volume</th>\n",
       "      <th>Name</th>\n",
       "    </tr>\n",
       "  </thead>\n",
       "  <tbody>\n",
       "    <tr>\n",
       "      <th>0</th>\n",
       "      <td>2013-02-08</td>\n",
       "      <td>261.40</td>\n",
       "      <td>265.25</td>\n",
       "      <td>260.555</td>\n",
       "      <td>261.95</td>\n",
       "      <td>3879078</td>\n",
       "      <td>AMZN</td>\n",
       "    </tr>\n",
       "    <tr>\n",
       "      <th>1</th>\n",
       "      <td>2013-02-11</td>\n",
       "      <td>263.20</td>\n",
       "      <td>263.25</td>\n",
       "      <td>256.600</td>\n",
       "      <td>257.21</td>\n",
       "      <td>3403403</td>\n",
       "      <td>AMZN</td>\n",
       "    </tr>\n",
       "    <tr>\n",
       "      <th>2</th>\n",
       "      <td>2013-02-12</td>\n",
       "      <td>259.19</td>\n",
       "      <td>260.16</td>\n",
       "      <td>257.000</td>\n",
       "      <td>258.70</td>\n",
       "      <td>2938660</td>\n",
       "      <td>AMZN</td>\n",
       "    </tr>\n",
       "    <tr>\n",
       "      <th>3</th>\n",
       "      <td>2013-02-13</td>\n",
       "      <td>261.53</td>\n",
       "      <td>269.96</td>\n",
       "      <td>260.300</td>\n",
       "      <td>269.47</td>\n",
       "      <td>5292996</td>\n",
       "      <td>AMZN</td>\n",
       "    </tr>\n",
       "    <tr>\n",
       "      <th>4</th>\n",
       "      <td>2013-02-14</td>\n",
       "      <td>267.37</td>\n",
       "      <td>270.65</td>\n",
       "      <td>265.400</td>\n",
       "      <td>269.24</td>\n",
       "      <td>3462780</td>\n",
       "      <td>AMZN</td>\n",
       "    </tr>\n",
       "    <tr>\n",
       "      <th>...</th>\n",
       "      <td>...</td>\n",
       "      <td>...</td>\n",
       "      <td>...</td>\n",
       "      <td>...</td>\n",
       "      <td>...</td>\n",
       "      <td>...</td>\n",
       "      <td>...</td>\n",
       "    </tr>\n",
       "    <tr>\n",
       "      <th>1254</th>\n",
       "      <td>2018-02-01</td>\n",
       "      <td>1445.00</td>\n",
       "      <td>1459.88</td>\n",
       "      <td>1385.140</td>\n",
       "      <td>1390.00</td>\n",
       "      <td>9113808</td>\n",
       "      <td>AMZN</td>\n",
       "    </tr>\n",
       "    <tr>\n",
       "      <th>1255</th>\n",
       "      <td>2018-02-02</td>\n",
       "      <td>1477.39</td>\n",
       "      <td>1498.00</td>\n",
       "      <td>1414.000</td>\n",
       "      <td>1429.95</td>\n",
       "      <td>11125722</td>\n",
       "      <td>AMZN</td>\n",
       "    </tr>\n",
       "    <tr>\n",
       "      <th>1256</th>\n",
       "      <td>2018-02-05</td>\n",
       "      <td>1402.62</td>\n",
       "      <td>1458.98</td>\n",
       "      <td>1320.720</td>\n",
       "      <td>1390.00</td>\n",
       "      <td>11494985</td>\n",
       "      <td>AMZN</td>\n",
       "    </tr>\n",
       "    <tr>\n",
       "      <th>1257</th>\n",
       "      <td>2018-02-06</td>\n",
       "      <td>1361.46</td>\n",
       "      <td>1443.99</td>\n",
       "      <td>1351.790</td>\n",
       "      <td>1442.84</td>\n",
       "      <td>11066819</td>\n",
       "      <td>AMZN</td>\n",
       "    </tr>\n",
       "    <tr>\n",
       "      <th>1258</th>\n",
       "      <td>2018-02-07</td>\n",
       "      <td>1449.00</td>\n",
       "      <td>1460.99</td>\n",
       "      <td>1415.150</td>\n",
       "      <td>1416.78</td>\n",
       "      <td>7162741</td>\n",
       "      <td>AMZN</td>\n",
       "    </tr>\n",
       "  </tbody>\n",
       "</table>\n",
       "<p>1259 rows × 7 columns</p>\n",
       "</div>"
      ],
      "text/plain": [
       "            date     open     high       low    close    volume  Name\n",
       "0     2013-02-08   261.40   265.25   260.555   261.95   3879078  AMZN\n",
       "1     2013-02-11   263.20   263.25   256.600   257.21   3403403  AMZN\n",
       "2     2013-02-12   259.19   260.16   257.000   258.70   2938660  AMZN\n",
       "3     2013-02-13   261.53   269.96   260.300   269.47   5292996  AMZN\n",
       "4     2013-02-14   267.37   270.65   265.400   269.24   3462780  AMZN\n",
       "...          ...      ...      ...       ...      ...       ...   ...\n",
       "1254  2018-02-01  1445.00  1459.88  1385.140  1390.00   9113808  AMZN\n",
       "1255  2018-02-02  1477.39  1498.00  1414.000  1429.95  11125722  AMZN\n",
       "1256  2018-02-05  1402.62  1458.98  1320.720  1390.00  11494985  AMZN\n",
       "1257  2018-02-06  1361.46  1443.99  1351.790  1442.84  11066819  AMZN\n",
       "1258  2018-02-07  1449.00  1460.99  1415.150  1416.78   7162741  AMZN\n",
       "\n",
       "[1259 rows x 7 columns]"
      ]
     },
     "execution_count": 123,
     "metadata": {},
     "output_type": "execute_result"
    }
   ],
   "source": [
    "AMZN"
   ]
  },
  {
   "cell_type": "code",
   "execution_count": 135,
   "metadata": {},
   "outputs": [
    {
     "data": {
      "image/png": "[encoded data removed]",
      "text/plain": [
       "<Figure size 432x288 with 1 Axes>"
      ]
     },
     "metadata": {
      "needs_background": "light"
     },
     "output_type": "display_data"
    }
   ],
   "source": [
    "plt.plot(\"date\", \"close\", data =AMZN, linestyle = \"dotted\")\n",
    "plt.grid()\n",
    "plt.show()"
   ]
  },
  {
   "cell_type": "code",
   "execution_count": 132,
   "metadata": {
    "scrolled": true
   },
   "outputs": [
    {
     "data": {
      "text/html": [
       "<div>\n",
       "<style scoped>\n",
       "    .dataframe tbody tr th:only-of-type {\n",
       "        vertical-align: middle;\n",
       "    }\n",
       "\n",
       "    .dataframe tbody tr th {\n",
       "        vertical-align: top;\n",
       "    }\n",
       "\n",
       "    .dataframe thead th {\n",
       "        text-align: right;\n",
       "    }\n",
       "</style>\n",
       "<table border=\"1\" class=\"dataframe\">\n",
       "  <thead>\n",
       "    <tr style=\"text-align: right;\">\n",
       "      <th></th>\n",
       "      <th>open</th>\n",
       "      <th>high</th>\n",
       "      <th>low</th>\n",
       "      <th>close</th>\n",
       "      <th>volume</th>\n",
       "    </tr>\n",
       "  </thead>\n",
       "  <tbody>\n",
       "    <tr>\n",
       "      <th>count</th>\n",
       "      <td>1259.000000</td>\n",
       "      <td>1259.000000</td>\n",
       "      <td>1259.000000</td>\n",
       "      <td>1259.000000</td>\n",
       "      <td>1.259000e+03</td>\n",
       "    </tr>\n",
       "    <tr>\n",
       "      <th>mean</th>\n",
       "      <td>576.867264</td>\n",
       "      <td>582.017221</td>\n",
       "      <td>571.113517</td>\n",
       "      <td>576.880041</td>\n",
       "      <td>3.730465e+06</td>\n",
       "    </tr>\n",
       "    <tr>\n",
       "      <th>std</th>\n",
       "      <td>282.500019</td>\n",
       "      <td>284.417123</td>\n",
       "      <td>280.215237</td>\n",
       "      <td>282.500395</td>\n",
       "      <td>2.166506e+06</td>\n",
       "    </tr>\n",
       "    <tr>\n",
       "      <th>min</th>\n",
       "      <td>248.940000</td>\n",
       "      <td>252.930000</td>\n",
       "      <td>245.750000</td>\n",
       "      <td>248.230000</td>\n",
       "      <td>1.092970e+06</td>\n",
       "    </tr>\n",
       "    <tr>\n",
       "      <th>25%</th>\n",
       "      <td>325.870000</td>\n",
       "      <td>329.485000</td>\n",
       "      <td>322.185000</td>\n",
       "      <td>325.800000</td>\n",
       "      <td>2.511165e+06</td>\n",
       "    </tr>\n",
       "    <tr>\n",
       "      <th>50%</th>\n",
       "      <td>506.000000</td>\n",
       "      <td>512.330000</td>\n",
       "      <td>495.640000</td>\n",
       "      <td>503.820000</td>\n",
       "      <td>3.144719e+06</td>\n",
       "    </tr>\n",
       "    <tr>\n",
       "      <th>75%</th>\n",
       "      <td>777.620000</td>\n",
       "      <td>781.845000</td>\n",
       "      <td>770.720000</td>\n",
       "      <td>777.420000</td>\n",
       "      <td>4.220246e+06</td>\n",
       "    </tr>\n",
       "    <tr>\n",
       "      <th>max</th>\n",
       "      <td>1477.390000</td>\n",
       "      <td>1498.000000</td>\n",
       "      <td>1450.040000</td>\n",
       "      <td>1450.890000</td>\n",
       "      <td>2.385606e+07</td>\n",
       "    </tr>\n",
       "  </tbody>\n",
       "</table>\n",
       "</div>"
      ],
      "text/plain": [
       "              open         high          low        close        volume\n",
       "count  1259.000000  1259.000000  1259.000000  1259.000000  1.259000e+03\n",
       "mean    576.867264   582.017221   571.113517   576.880041  3.730465e+06\n",
       "std     282.500019   284.417123   280.215237   282.500395  2.166506e+06\n",
       "min     248.940000   252.930000   245.750000   248.230000  1.092970e+06\n",
       "25%     325.870000   329.485000   322.185000   325.800000  2.511165e+06\n",
       "50%     506.000000   512.330000   495.640000   503.820000  3.144719e+06\n",
       "75%     777.620000   781.845000   770.720000   777.420000  4.220246e+06\n",
       "max    1477.390000  1498.000000  1450.040000  1450.890000  2.385606e+07"
      ]
     },
     "execution_count": 132,
     "metadata": {},
     "output_type": "execute_result"
    }
   ],
   "source": [
    "AMZN.describe()"
   ]
  },
  {
   "cell_type": "code",
   "execution_count": 134,
   "metadata": {},
   "outputs": [
    {
     "data": {
      "text/plain": [
       "1477.39"
      ]
     },
     "execution_count": 134,
     "metadata": {},
     "output_type": "execute_result"
    }
   ],
   "source": [
    "AMZN[\"open\"].max()"
   ]
  },
  {
   "cell_type": "code",
   "execution_count": 168,
   "metadata": {},
   "outputs": [],
   "source": [
    "#histogram\n"
   ]
  },
  {
   "cell_type": "code",
   "execution_count": null,
   "metadata": {},
   "outputs": [],
   "source": [
    "plt.hist"
   ]
  },
  {
   "cell_type": "code",
   "execution_count": 16,
   "metadata": {},
   "outputs": [
    {
     "data": {
      "text/html": [
       "<div>\n",
       "<style scoped>\n",
       "    .dataframe tbody tr th:only-of-type {\n",
       "        vertical-align: middle;\n",
       "    }\n",
       "\n",
       "    .dataframe tbody tr th {\n",
       "        vertical-align: top;\n",
       "    }\n",
       "\n",
       "    .dataframe thead th {\n",
       "        text-align: right;\n",
       "    }\n",
       "</style>\n",
       "<table border=\"1\" class=\"dataframe\">\n",
       "  <thead>\n",
       "    <tr style=\"text-align: right;\">\n",
       "      <th></th>\n",
       "      <th>Transaction_date</th>\n",
       "      <th>Product</th>\n",
       "      <th>Price</th>\n",
       "      <th>Payment_Type</th>\n",
       "      <th>Name</th>\n",
       "      <th>City</th>\n",
       "      <th>State</th>\n",
       "      <th>Country</th>\n",
       "      <th>Account_Created</th>\n",
       "      <th>Last_Login</th>\n",
       "      <th>Latitude</th>\n",
       "      <th>Longitude</th>\n",
       "    </tr>\n",
       "  </thead>\n",
       "  <tbody>\n",
       "    <tr>\n",
       "      <th>0</th>\n",
       "      <td>1/2/2009 6:17</td>\n",
       "      <td>Silver Laptop</td>\n",
       "      <td>1200.0</td>\n",
       "      <td>Mastercard</td>\n",
       "      <td>carolina</td>\n",
       "      <td>Basildon</td>\n",
       "      <td>England</td>\n",
       "      <td>United Kingdom</td>\n",
       "      <td>1/2/2009 6:00</td>\n",
       "      <td>1/2/2009 6:08</td>\n",
       "      <td>51.500000</td>\n",
       "      <td>-1.116667</td>\n",
       "    </tr>\n",
       "    <tr>\n",
       "      <th>1</th>\n",
       "      <td>1/2/2009 4:53</td>\n",
       "      <td>Silver Laptop</td>\n",
       "      <td>1200.0</td>\n",
       "      <td>Visa</td>\n",
       "      <td>Betina</td>\n",
       "      <td>Parkville</td>\n",
       "      <td>MO</td>\n",
       "      <td>United States</td>\n",
       "      <td>1/2/2009 4:42</td>\n",
       "      <td>1/2/2009 7:49</td>\n",
       "      <td>39.195000</td>\n",
       "      <td>-94.681940</td>\n",
       "    </tr>\n",
       "    <tr>\n",
       "      <th>2</th>\n",
       "      <td>1/2/2009 13:08</td>\n",
       "      <td>Silver Laptop</td>\n",
       "      <td>1200.0</td>\n",
       "      <td>Mastercard</td>\n",
       "      <td>Federica e Andrea</td>\n",
       "      <td>Astoria</td>\n",
       "      <td>OR</td>\n",
       "      <td>United States</td>\n",
       "      <td>1/1/2009 16:21</td>\n",
       "      <td>1/3/2009 12:32</td>\n",
       "      <td>46.188060</td>\n",
       "      <td>-123.830000</td>\n",
       "    </tr>\n",
       "    <tr>\n",
       "      <th>3</th>\n",
       "      <td>1/3/2009 14:44</td>\n",
       "      <td>Silver Laptop</td>\n",
       "      <td>1200.0</td>\n",
       "      <td>Visa</td>\n",
       "      <td>Gouya</td>\n",
       "      <td>Echuca</td>\n",
       "      <td>Victoria</td>\n",
       "      <td>Australia</td>\n",
       "      <td>9/25/2005 21:13</td>\n",
       "      <td>1/3/2009 14:22</td>\n",
       "      <td>-36.133333</td>\n",
       "      <td>144.750000</td>\n",
       "    </tr>\n",
       "    <tr>\n",
       "      <th>4</th>\n",
       "      <td>1/4/2009 12:56</td>\n",
       "      <td>Gold Laptop</td>\n",
       "      <td>3600.0</td>\n",
       "      <td>Visa</td>\n",
       "      <td>Gerd W</td>\n",
       "      <td>Cahaba Heights</td>\n",
       "      <td>AL</td>\n",
       "      <td>United States</td>\n",
       "      <td>11/15/2008 15:47</td>\n",
       "      <td>1/4/2009 12:45</td>\n",
       "      <td>33.520560</td>\n",
       "      <td>-86.802500</td>\n",
       "    </tr>\n",
       "    <tr>\n",
       "      <th>...</th>\n",
       "      <td>...</td>\n",
       "      <td>...</td>\n",
       "      <td>...</td>\n",
       "      <td>...</td>\n",
       "      <td>...</td>\n",
       "      <td>...</td>\n",
       "      <td>...</td>\n",
       "      <td>...</td>\n",
       "      <td>...</td>\n",
       "      <td>...</td>\n",
       "      <td>...</td>\n",
       "      <td>...</td>\n",
       "    </tr>\n",
       "    <tr>\n",
       "      <th>993</th>\n",
       "      <td>1/22/2009 14:25</td>\n",
       "      <td>Silver Laptop</td>\n",
       "      <td>1200.0</td>\n",
       "      <td>Visa</td>\n",
       "      <td>Hans-Joerg</td>\n",
       "      <td>Belfast</td>\n",
       "      <td>Northern Ireland</td>\n",
       "      <td>United Kingdom</td>\n",
       "      <td>11/10/2008 12:15</td>\n",
       "      <td>3/1/2009 3:37</td>\n",
       "      <td>54.583333</td>\n",
       "      <td>-5.933333</td>\n",
       "    </tr>\n",
       "    <tr>\n",
       "      <th>994</th>\n",
       "      <td>1/28/2009 5:36</td>\n",
       "      <td>Gold Laptop</td>\n",
       "      <td>3600.0</td>\n",
       "      <td>Visa</td>\n",
       "      <td>Christiane</td>\n",
       "      <td>Black River</td>\n",
       "      <td>Black River</td>\n",
       "      <td>Mauritius</td>\n",
       "      <td>1/9/2009 8:10</td>\n",
       "      <td>3/1/2009 4:40</td>\n",
       "      <td>-20.360278</td>\n",
       "      <td>57.366111</td>\n",
       "    </tr>\n",
       "    <tr>\n",
       "      <th>995</th>\n",
       "      <td>1/1/2009 4:24</td>\n",
       "      <td>Platinum Laptop</td>\n",
       "      <td>7500.0</td>\n",
       "      <td>Amex</td>\n",
       "      <td>Pamela</td>\n",
       "      <td>Skaneateles</td>\n",
       "      <td>NY</td>\n",
       "      <td>United States</td>\n",
       "      <td>12/28/2008 17:28</td>\n",
       "      <td>3/1/2009 7:21</td>\n",
       "      <td>42.946940</td>\n",
       "      <td>-76.429440</td>\n",
       "    </tr>\n",
       "    <tr>\n",
       "      <th>996</th>\n",
       "      <td>1/8/2009 11:55</td>\n",
       "      <td>Silver Laptop</td>\n",
       "      <td>1200.0</td>\n",
       "      <td>Diners</td>\n",
       "      <td>julie</td>\n",
       "      <td>Haverhill</td>\n",
       "      <td>England</td>\n",
       "      <td>United Kingdom</td>\n",
       "      <td>11/29/2006 13:31</td>\n",
       "      <td>3/1/2009 7:28</td>\n",
       "      <td>52.083333</td>\n",
       "      <td>0.433333</td>\n",
       "    </tr>\n",
       "    <tr>\n",
       "      <th>997</th>\n",
       "      <td>1/12/2009 21:30</td>\n",
       "      <td>Silver Laptop</td>\n",
       "      <td>1200.0</td>\n",
       "      <td>Visa</td>\n",
       "      <td>Julia</td>\n",
       "      <td>Madison</td>\n",
       "      <td>WI</td>\n",
       "      <td>United States</td>\n",
       "      <td>11/17/2008 22:24</td>\n",
       "      <td>3/1/2009 10:14</td>\n",
       "      <td>43.073060</td>\n",
       "      <td>-89.401110</td>\n",
       "    </tr>\n",
       "  </tbody>\n",
       "</table>\n",
       "<p>998 rows × 12 columns</p>\n",
       "</div>"
      ],
      "text/plain": [
       "    Transaction_date          Product   Price Payment_Type               Name  \\\n",
       "0      1/2/2009 6:17    Silver Laptop  1200.0   Mastercard           carolina   \n",
       "1      1/2/2009 4:53    Silver Laptop  1200.0         Visa             Betina   \n",
       "2     1/2/2009 13:08    Silver Laptop  1200.0   Mastercard  Federica e Andrea   \n",
       "3     1/3/2009 14:44    Silver Laptop  1200.0         Visa              Gouya   \n",
       "4     1/4/2009 12:56      Gold Laptop  3600.0         Visa            Gerd W    \n",
       "..               ...              ...     ...          ...                ...   \n",
       "993  1/22/2009 14:25    Silver Laptop  1200.0         Visa         Hans-Joerg   \n",
       "994   1/28/2009 5:36      Gold Laptop  3600.0         Visa         Christiane   \n",
       "995    1/1/2009 4:24  Platinum Laptop  7500.0         Amex             Pamela   \n",
       "996   1/8/2009 11:55    Silver Laptop  1200.0       Diners              julie   \n",
       "997  1/12/2009 21:30    Silver Laptop  1200.0         Visa             Julia    \n",
       "\n",
       "                             City             State         Country  \\\n",
       "0                        Basildon           England  United Kingdom   \n",
       "1    Parkville                                   MO   United States   \n",
       "2    Astoria                                     OR   United States   \n",
       "3                          Echuca          Victoria       Australia   \n",
       "4    Cahaba Heights                              AL   United States   \n",
       "..                            ...               ...             ...   \n",
       "993                       Belfast  Northern Ireland  United Kingdom   \n",
       "994                   Black River       Black River       Mauritius   \n",
       "995  Skaneateles                                 NY   United States   \n",
       "996                     Haverhill           England  United Kingdom   \n",
       "997  Madison                                     WI   United States   \n",
       "\n",
       "      Account_Created      Last_Login   Latitude   Longitude  \n",
       "0       1/2/2009 6:00   1/2/2009 6:08  51.500000   -1.116667  \n",
       "1       1/2/2009 4:42   1/2/2009 7:49  39.195000  -94.681940  \n",
       "2      1/1/2009 16:21  1/3/2009 12:32  46.188060 -123.830000  \n",
       "3     9/25/2005 21:13  1/3/2009 14:22 -36.133333  144.750000  \n",
       "4    11/15/2008 15:47  1/4/2009 12:45  33.520560  -86.802500  \n",
       "..                ...             ...        ...         ...  \n",
       "993  11/10/2008 12:15   3/1/2009 3:37  54.583333   -5.933333  \n",
       "994     1/9/2009 8:10   3/1/2009 4:40 -20.360278   57.366111  \n",
       "995  12/28/2008 17:28   3/1/2009 7:21  42.946940  -76.429440  \n",
       "996  11/29/2006 13:31   3/1/2009 7:28  52.083333    0.433333  \n",
       "997  11/17/2008 22:24  3/1/2009 10:14  43.073060  -89.401110  \n",
       "\n",
       "[998 rows x 12 columns]"
      ]
     },
     "execution_count": 16,
     "metadata": {},
     "output_type": "execute_result"
    }
   ],
   "source": [
    "laps"
   ]
  },
  {
   "cell_type": "code",
   "execution_count": 10,
   "metadata": {},
   "outputs": [
    {
     "data": {
      "text/plain": [
       "0      1200.0\n",
       "1      1200.0\n",
       "2      1200.0\n",
       "3      1200.0\n",
       "4      3600.0\n",
       "        ...  \n",
       "993    1200.0\n",
       "994    3600.0\n",
       "995    7500.0\n",
       "996    1200.0\n",
       "997    1200.0\n",
       "Name: Price, Length: 998, dtype: float64"
      ]
     },
     "execution_count": 10,
     "metadata": {},
     "output_type": "execute_result"
    }
   ],
   "source": [
    "laps[\"Price\"]"
   ]
  },
  {
   "cell_type": "code",
   "execution_count": 17,
   "metadata": {},
   "outputs": [],
   "source": [
    "X=laps[\"Price\"]"
   ]
  },
  {
   "cell_type": "code",
   "execution_count": 18,
   "metadata": {},
   "outputs": [
    {
     "data": {
      "text/plain": [
       "0      1200.0\n",
       "1      1200.0\n",
       "2      1200.0\n",
       "3      1200.0\n",
       "4      3600.0\n",
       "        ...  \n",
       "993    1200.0\n",
       "994    3600.0\n",
       "995    7500.0\n",
       "996    1200.0\n",
       "997    1200.0\n",
       "Name: Price, Length: 998, dtype: float64"
      ]
     },
     "execution_count": 18,
     "metadata": {},
     "output_type": "execute_result"
    }
   ],
   "source": [
    "X"
   ]
  },
  {
   "cell_type": "code",
   "execution_count": 20,
   "metadata": {},
   "outputs": [],
   "source": [
    "import matplotlib.pyplot as plt"
   ]
  },
  {
   "cell_type": "code",
   "execution_count": 21,
   "metadata": {},
   "outputs": [
    {
     "data": {
      "image/png": "[encoded data removed]",
      "text/plain": [
       "<Figure size 720x576 with 1 Axes>"
      ]
     },
     "metadata": {
      "needs_background": "light"
     },
     "output_type": "display_data"
    }
   ],
   "source": [
    "\n",
    "plt.figure(figsize =(10, 8))\n",
    "plt.hist(X, density=True)\n",
    "plt.xlabel(\"x axis\")\n",
    "plt.ylabel(\"y axis\")\n",
    "plt.title(\"Histogram\")\n",
    "plt.show()"
   ]
  },
  {
   "cell_type": "code",
   "execution_count": 22,
   "metadata": {},
   "outputs": [],
   "source": [
    "import pandas as pd"
   ]
  },
  {
   "cell_type": "code",
   "execution_count": 23,
   "metadata": {},
   "outputs": [],
   "source": [
    "AMZN=pd.read_csv(r\"C:\\Users\\Abraham okotore\\Downloads\\AMZN_data.csv\")"
   ]
  },
  {
   "cell_type": "code",
   "execution_count": 24,
   "metadata": {},
   "outputs": [
    {
     "data": {
      "text/html": [
       "<div>\n",
       "<style scoped>\n",
       "    .dataframe tbody tr th:only-of-type {\n",
       "        vertical-align: middle;\n",
       "    }\n",
       "\n",
       "    .dataframe tbody tr th {\n",
       "        vertical-align: top;\n",
       "    }\n",
       "\n",
       "    .dataframe thead th {\n",
       "        text-align: right;\n",
       "    }\n",
       "</style>\n",
       "<table border=\"1\" class=\"dataframe\">\n",
       "  <thead>\n",
       "    <tr style=\"text-align: right;\">\n",
       "      <th></th>\n",
       "      <th>date</th>\n",
       "      <th>open</th>\n",
       "      <th>high</th>\n",
       "      <th>low</th>\n",
       "      <th>close</th>\n",
       "      <th>volume</th>\n",
       "      <th>Name</th>\n",
       "    </tr>\n",
       "  </thead>\n",
       "  <tbody>\n",
       "    <tr>\n",
       "      <th>0</th>\n",
       "      <td>2013-02-08</td>\n",
       "      <td>261.40</td>\n",
       "      <td>265.25</td>\n",
       "      <td>260.555</td>\n",
       "      <td>261.95</td>\n",
       "      <td>3879078</td>\n",
       "      <td>AMZN</td>\n",
       "    </tr>\n",
       "    <tr>\n",
       "      <th>1</th>\n",
       "      <td>2013-02-11</td>\n",
       "      <td>263.20</td>\n",
       "      <td>263.25</td>\n",
       "      <td>256.600</td>\n",
       "      <td>257.21</td>\n",
       "      <td>3403403</td>\n",
       "      <td>AMZN</td>\n",
       "    </tr>\n",
       "    <tr>\n",
       "      <th>2</th>\n",
       "      <td>2013-02-12</td>\n",
       "      <td>259.19</td>\n",
       "      <td>260.16</td>\n",
       "      <td>257.000</td>\n",
       "      <td>258.70</td>\n",
       "      <td>2938660</td>\n",
       "      <td>AMZN</td>\n",
       "    </tr>\n",
       "    <tr>\n",
       "      <th>3</th>\n",
       "      <td>2013-02-13</td>\n",
       "      <td>261.53</td>\n",
       "      <td>269.96</td>\n",
       "      <td>260.300</td>\n",
       "      <td>269.47</td>\n",
       "      <td>5292996</td>\n",
       "      <td>AMZN</td>\n",
       "    </tr>\n",
       "    <tr>\n",
       "      <th>4</th>\n",
       "      <td>2013-02-14</td>\n",
       "      <td>267.37</td>\n",
       "      <td>270.65</td>\n",
       "      <td>265.400</td>\n",
       "      <td>269.24</td>\n",
       "      <td>3462780</td>\n",
       "      <td>AMZN</td>\n",
       "    </tr>\n",
       "    <tr>\n",
       "      <th>...</th>\n",
       "      <td>...</td>\n",
       "      <td>...</td>\n",
       "      <td>...</td>\n",
       "      <td>...</td>\n",
       "      <td>...</td>\n",
       "      <td>...</td>\n",
       "      <td>...</td>\n",
       "    </tr>\n",
       "    <tr>\n",
       "      <th>1254</th>\n",
       "      <td>2018-02-01</td>\n",
       "      <td>1445.00</td>\n",
       "      <td>1459.88</td>\n",
       "      <td>1385.140</td>\n",
       "      <td>1390.00</td>\n",
       "      <td>9113808</td>\n",
       "      <td>AMZN</td>\n",
       "    </tr>\n",
       "    <tr>\n",
       "      <th>1255</th>\n",
       "      <td>2018-02-02</td>\n",
       "      <td>1477.39</td>\n",
       "      <td>1498.00</td>\n",
       "      <td>1414.000</td>\n",
       "      <td>1429.95</td>\n",
       "      <td>11125722</td>\n",
       "      <td>AMZN</td>\n",
       "    </tr>\n",
       "    <tr>\n",
       "      <th>1256</th>\n",
       "      <td>2018-02-05</td>\n",
       "      <td>1402.62</td>\n",
       "      <td>1458.98</td>\n",
       "      <td>1320.720</td>\n",
       "      <td>1390.00</td>\n",
       "      <td>11494985</td>\n",
       "      <td>AMZN</td>\n",
       "    </tr>\n",
       "    <tr>\n",
       "      <th>1257</th>\n",
       "      <td>2018-02-06</td>\n",
       "      <td>1361.46</td>\n",
       "      <td>1443.99</td>\n",
       "      <td>1351.790</td>\n",
       "      <td>1442.84</td>\n",
       "      <td>11066819</td>\n",
       "      <td>AMZN</td>\n",
       "    </tr>\n",
       "    <tr>\n",
       "      <th>1258</th>\n",
       "      <td>2018-02-07</td>\n",
       "      <td>1449.00</td>\n",
       "      <td>1460.99</td>\n",
       "      <td>1415.150</td>\n",
       "      <td>1416.78</td>\n",
       "      <td>7162741</td>\n",
       "      <td>AMZN</td>\n",
       "    </tr>\n",
       "  </tbody>\n",
       "</table>\n",
       "<p>1259 rows × 7 columns</p>\n",
       "</div>"
      ],
      "text/plain": [
       "            date     open     high       low    close    volume  Name\n",
       "0     2013-02-08   261.40   265.25   260.555   261.95   3879078  AMZN\n",
       "1     2013-02-11   263.20   263.25   256.600   257.21   3403403  AMZN\n",
       "2     2013-02-12   259.19   260.16   257.000   258.70   2938660  AMZN\n",
       "3     2013-02-13   261.53   269.96   260.300   269.47   5292996  AMZN\n",
       "4     2013-02-14   267.37   270.65   265.400   269.24   3462780  AMZN\n",
       "...          ...      ...      ...       ...      ...       ...   ...\n",
       "1254  2018-02-01  1445.00  1459.88  1385.140  1390.00   9113808  AMZN\n",
       "1255  2018-02-02  1477.39  1498.00  1414.000  1429.95  11125722  AMZN\n",
       "1256  2018-02-05  1402.62  1458.98  1320.720  1390.00  11494985  AMZN\n",
       "1257  2018-02-06  1361.46  1443.99  1351.790  1442.84  11066819  AMZN\n",
       "1258  2018-02-07  1449.00  1460.99  1415.150  1416.78   7162741  AMZN\n",
       "\n",
       "[1259 rows x 7 columns]"
      ]
     },
     "execution_count": 24,
     "metadata": {},
     "output_type": "execute_result"
    }
   ],
   "source": [
    "AMZN"
   ]
  },
  {
   "cell_type": "code",
   "execution_count": 26,
   "metadata": {},
   "outputs": [
    {
     "ename": "NameError",
     "evalue": "name 'Describe' is not defined",
     "output_type": "error",
     "traceback": [
      "\u001b[1;31m---------------------------------------------------------------------------\u001b[0m",
      "\u001b[1;31mNameError\u001b[0m                                 Traceback (most recent call last)",
      "\u001b[1;32m<ipython-input-26-56e33fa4cb98>\u001b[0m in \u001b[0;36m<module>\u001b[1;34m\u001b[0m\n\u001b[1;32m----> 1\u001b[1;33m \u001b[0mAMZN\u001b[0m\u001b[1;33m(\u001b[0m\u001b[0mDescribe\u001b[0m\u001b[1;33m)\u001b[0m\u001b[1;33m\u001b[0m\u001b[1;33m\u001b[0m\u001b[0m\n\u001b[0m",
      "\u001b[1;31mNameError\u001b[0m: name 'Describe' is not defined"
     ]
    }
   ],
   "source": [
    "AMZN"
   ]
  },
  {
   "cell_type": "code",
   "execution_count": 27,
   "metadata": {},
   "outputs": [
    {
     "data": {
      "text/plain": [
       "0        261.40\n",
       "1        263.20\n",
       "2        259.19\n",
       "3        261.53\n",
       "4        267.37\n",
       "         ...   \n",
       "1254    1445.00\n",
       "1255    1477.39\n",
       "1256    1402.62\n",
       "1257    1361.46\n",
       "1258    1449.00\n",
       "Name: open, Length: 1259, dtype: float64"
      ]
     },
     "execution_count": 27,
     "metadata": {},
     "output_type": "execute_result"
    }
   ],
   "source": [
    "AMZN[\"open\"]"
   ]
  },
  {
   "cell_type": "code",
   "execution_count": 29,
   "metadata": {},
   "outputs": [],
   "source": [
    "new=AMZN[\"open\"]"
   ]
  },
  {
   "cell_type": "code",
   "execution_count": 30,
   "metadata": {},
   "outputs": [
    {
     "data": {
      "text/plain": [
       "0        261.40\n",
       "1        263.20\n",
       "2        259.19\n",
       "3        261.53\n",
       "4        267.37\n",
       "         ...   \n",
       "1254    1445.00\n",
       "1255    1477.39\n",
       "1256    1402.62\n",
       "1257    1361.46\n",
       "1258    1449.00\n",
       "Name: open, Length: 1259, dtype: float64"
      ]
     },
     "execution_count": 30,
     "metadata": {},
     "output_type": "execute_result"
    }
   ],
   "source": [
    "new"
   ]
  },
  {
   "cell_type": "code",
   "execution_count": 33,
   "metadata": {},
   "outputs": [],
   "source": [
    "import matplotlib.pyplot as plt"
   ]
  },
  {
   "cell_type": "code",
   "execution_count": 35,
   "metadata": {},
   "outputs": [
    {
     "data": {
      "text/plain": [
       "(array([2.98716190e-03, 1.05391210e-03, 8.21146235e-04, 7.37091896e-04,\n",
       "        1.13796644e-03, 5.94846092e-04, 3.87943103e-04, 2.78025891e-04,\n",
       "        7.11229023e-05, 7.11229023e-05]),\n",
       " array([ 248.94 ,  371.785,  494.63 ,  617.475,  740.32 ,  863.165,\n",
       "         986.01 , 1108.855, 1231.7  , 1354.545, 1477.39 ]),\n",
       " <a list of 10 Patch objects>)"
      ]
     },
     "execution_count": 35,
     "metadata": {},
     "output_type": "execute_result"
    },
    {
     "data": {
      "image/png": "[encoded data removed]",
      "text/plain": [
       "<Figure size 432x288 with 1 Axes>"
      ]
     },
     "metadata": {
      "needs_background": "light"
     },
     "output_type": "display_data"
    }
   ],
   "source": [
    "plt.hist(new, density=True)\n",
    "plt.xlabel()"
   ]
  }
 ],
 "metadata": {
  "kernelspec": {
   "display_name": "Python 3",
   "language": "python",
   "name": "python3"
  },
  "language_info": {
   "codemirror_mode": {
    "name": "ipython",
    "version": 3
   },
   "file_extension": ".py",
   "mimetype": "text/x-python",
   "name": "python",
   "nbconvert_exporter": "python",
   "pygments_lexer": "ipython3",
   "version": "3.8.5"
  }
 },
 "nbformat": 4,
 "nbformat_minor": 4
}
